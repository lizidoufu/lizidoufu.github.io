{
 "cells": [
  {
   "cell_type": "code",
   "execution_count": 1,
   "id": "1642b3a4-6a96-4701-9c5b-f95ee5f5d1de",
   "metadata": {},
   "outputs": [],
   "source": [
    "import numpy as np\n",
    "import pandas as pd\n",
    "import matplotlib.pyplot as plt\n",
    "import warnings\n",
    "import copy\n",
    "warnings.simplefilter(\"ignore\")\n",
    "plt.rcParams['font.sans-serif'] = ['SimHei']   \n",
    "plt.rcParams['axes.unicode_minus'] = False "
   ]
  },
  {
   "cell_type": "code",
   "execution_count": 2,
   "id": "b6f4fce5-2742-4878-b684-aa4de09b2898",
   "metadata": {},
   "outputs": [
    {
     "data": {
      "image/png": "[encoded data removed]",
      "text/plain": [
       "<Figure size 288x288 with 1 Axes>"
      ]
     },
     "metadata": {
      "needs_background": "light"
     },
     "output_type": "display_data"
    }
   ],
   "source": [
    "np.random.seed(4342)\n",
    "\n",
    "x1 = np.random.rand(7, 2) * 4 + 2 \n",
    "y1 = [0] * len(x1)\n",
    "\n",
    "x2 = np.random.rand(7, 2) * 4 + 4\n",
    "y2 = [1] * len(x2)\n",
    "\n",
    "xt = np.array([\n",
    "    [1, 4],\n",
    "    [0.5, 4],\n",
    "    [4, 6],\n",
    "])\n",
    "yt = np.array([1, 0, 1])\n",
    "\n",
    "x = np.concatenate([x1, x2, xt], axis=0)\n",
    "y = np.concatenate([y1, y2, yt])\n",
    "\n",
    "plt.figure(figsize=(4, 4))\n",
    "plt.title(\"Samples\")\n",
    "plt.scatter(x[:, 0], x[:, 1], alpha=0.5)\n",
    "plt.xlim(0, 10)\n",
    "plt.ylim(0, 10)\n",
    "plt.show()"
   ]
  },
  {
   "cell_type": "code",
   "execution_count": 3,
   "id": "2076a24c-f9de-45ba-9978-4c9848d29acc",
   "metadata": {},
   "outputs": [
    {
     "name": "stdout",
     "output_type": "stream",
     "text": [
      "loop = 0, self.centers_err = 6.123483318147332\n",
      "loop = 1, self.centers_err = 1.0318787483887562\n",
      "loop = 2, self.centers_err = 0.0\n",
      "loop = 3, self.centers_err = 0.0\n",
      "loop = 4, self.centers_err = 0.0\n",
      "loop = 5, self.centers_err = 0.0\n",
      "loop = 6, self.centers_err = 0.0\n",
      "loop = 7, self.centers_err = 0.0\n",
      "loop = 8, self.centers_err = 0.0\n",
      "loop = 9, self.centers_err = 0.0\n"
     ]
    },
    {
     "data": {
      "text/plain": [
       "array([[4.05055051, 2.65134787],\n",
       "       [1.78121696, 4.65882484],\n",
       "       [5.05873715, 5.23701491],\n",
       "       [7.35972518, 6.00446634],\n",
       "       [6.29883447, 7.43434444]])"
      ]
     },
     "execution_count": 3,
     "metadata": {},
     "output_type": "execute_result"
    }
   ],
   "source": [
    "class KMeans(object):\n",
    "    \n",
    "    def __init__(self, px, nums=2):\n",
    "        self.x = px\n",
    "        self.nums = nums\n",
    "        self.centers = None\n",
    "        self.randomCenters()\n",
    "        self.distance_array = None\n",
    "        self.distance_label = None\n",
    "        self.centers_new = None\n",
    "        self.centers_err = None\n",
    "        pass\n",
    "    \n",
    "    def show(self):\n",
    "        print(f\"self.x.shape = {self.x.shape}, self.centers = {self.centers}\")\n",
    "        # print(f\"self.distance_array = {self.distance_array}\")\n",
    "        # print(f\"self.centers_err = {self.centers_err}\")\n",
    "        pass\n",
    "    \n",
    "    def randomCenters(self):\n",
    "        np.random.seed(412094)    \n",
    "        nums = self.nums\n",
    "        idxs = list()\n",
    "        for i in range(nums):\n",
    "            while True:\n",
    "                idx = np.random.randint(0, len(self.x))\n",
    "                if idx not in idxs:\n",
    "                    idxs.append(idx)\n",
    "                    break\n",
    "                else:\n",
    "                    continue\n",
    "        centers = list()   \n",
    "        for idx in idxs:\n",
    "            centers.append(self.x[idx])\n",
    "        self.centers = np.array(centers)\n",
    "        pass\n",
    "    \n",
    "    def distanceCompute(self):\n",
    "        distance_array = list()\n",
    "        for i in range(len(self.x)):\n",
    "            distances = list()\n",
    "            for center in self.centers:\n",
    "                sample = self.x[i, :]\n",
    "                distance = np.sqrt(np.sum((sample - center)**2))\n",
    "                distances.append(distance)\n",
    "            distance_array.append(distances)\n",
    "        self.distance_array = np.array(distance_array)\n",
    "        pass\n",
    "    \n",
    "    def distanceLabel(self):\n",
    "        label = self.distance_array.argmin(axis=1)\n",
    "        self.distance_label = label\n",
    "        pass\n",
    "    \n",
    "    \n",
    "    def distanceCenter(self):\n",
    "        samples = dict()\n",
    "        for i in range(len(self.x)):\n",
    "            center = self.distance_label[i] \n",
    "            if center not in samples.keys():\n",
    "                samples[center] = [self.x[i]]\n",
    "            else:\n",
    "                samples[center].append(self.x[i])\n",
    "        for k, v in samples.items():\n",
    "            samples[k] = np.array(v)\n",
    "        centers = list()\n",
    "        for k, v in samples.items():\n",
    "            centers.append(v.mean(axis=0))    \n",
    "        self.centers_new = np.array(centers)   \n",
    "        pass\n",
    "    \n",
    "    def centersDistance(self):\n",
    "        error = 0\n",
    "        for i in range(len(self.centers)):\n",
    "            cen1 = self.centers[i]\n",
    "            cen2 = self.centers_new[i]\n",
    "            err = np.sqrt(np.sum(cen1-cen2)**2)\n",
    "            error += err\n",
    "        self.centers_err = error\n",
    "        pass\n",
    "    \n",
    "    def changeCenters(self):\n",
    "        self.centers = self.centers_new\n",
    "        pass\n",
    "    \n",
    "    def run(self, loops):\n",
    "        for loop in range(loops):\n",
    "            kmeans.distanceCompute()\n",
    "            kmeans.distanceLabel()\n",
    "            kmeans.distanceCenter()\n",
    "            kmeans.centersDistance()\n",
    "            kmeans.changeCenters()\n",
    "            print(f\"loop = {loop}, self.centers_err = {self.centers_err}\")\n",
    "        pass\n",
    "    \n",
    "    pass\n",
    "\n",
    "kmeans = KMeans(x, nums=5)\n",
    "kmeans.run(loops=10)\n",
    "kmeans.centers"
   ]
  },
  {
   "cell_type": "markdown",
   "id": "0ac7a2cb-0376-473f-828f-73e331b31e52",
   "metadata": {},
   "source": [
    "# 决策边界背景"
   ]
  },
  {
   "cell_type": "code",
   "execution_count": 4,
   "id": "87413701-6045-4e59-b34d-4ff4fbeafc14",
   "metadata": {},
   "outputs": [],
   "source": [
    "idx = np.arange(-0, 10, 0.05)\n",
    "idy = np.arange(-0, 10, 0.05)\n",
    "\n",
    "idxx, idyy = np.meshgrid(idx, idy)\n",
    "idt = np.c_[idxx.ravel(), idyy.ravel()]\n",
    "# print(idt)\n",
    "# print(idt.shape)\n",
    "\n",
    "distance_array = list()\n",
    "for i in range(len(idt)):\n",
    "    distances = list()\n",
    "    for center in kmeans.centers:\n",
    "        sample = idt[i, :]\n",
    "        distance = np.sqrt(np.sum((sample - center)**2))\n",
    "        distances.append(distance) \n",
    "    distance_array.append(distances)\n",
    "distance_array = np.array(distance_array)\n",
    "idzz = distance_array.argmin(axis=1).reshape(idxx.shape)"
   ]
  },
  {
   "cell_type": "code",
   "execution_count": 5,
   "id": "4f0f6ecb-2597-4b68-b1c7-bf37c94c7a87",
   "metadata": {},
   "outputs": [
    {
     "data": {
      "image/png": "[encoded data removed]",
      "text/plain": [
       "<Figure size 288x288 with 1 Axes>"
      ]
     },
     "metadata": {
      "needs_background": "light"
     },
     "output_type": "display_data"
    }
   ],
   "source": [
    "plt.figure(figsize=(4, 4))\n",
    "plt.contourf(idxx, idyy, idzz, alpha=0.15, cmap=\"bwr\")\n",
    "plt.scatter(x[:, 0].ravel(), x[:, 1].ravel(), c=\"green\", alpha=0.25, cmap=\"bwr\")\n",
    "for center in kmeans.centers:\n",
    "    plt.scatter(center[0], center[1], alpha=1, s=50, edgecolors=\"black\")\n",
    "plt.show()"
   ]
  }
 ],
 "metadata": {
  "kernelspec": {
   "display_name": "Python 3",
   "language": "python",
   "name": "python3"
  },
  "language_info": {
   "codemirror_mode": {
    "name": "ipython",
    "version": 3
   },
   "file_extension": ".py",
   "mimetype": "text/x-python",
   "name": "python",
   "nbconvert_exporter": "python",
   "pygments_lexer": "ipython3",
   "version": "3.8.8"
  }
 },
 "nbformat": 4,
 "nbformat_minor": 5
}
