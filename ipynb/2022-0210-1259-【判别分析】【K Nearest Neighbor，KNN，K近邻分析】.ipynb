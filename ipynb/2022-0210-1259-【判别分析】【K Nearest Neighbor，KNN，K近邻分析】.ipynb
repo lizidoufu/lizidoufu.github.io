{
 "cells": [
  {
   "cell_type": "code",
   "execution_count": 1,
   "id": "f5384087-3a15-4d20-af77-2fc291cf83e6",
   "metadata": {},
   "outputs": [],
   "source": [
    "import numpy as np\n",
    "import pandas as pd\n",
    "import matplotlib.pyplot as plt\n",
    "import warnings\n",
    "import copy\n",
    "warnings.simplefilter(\"ignore\")\n",
    "plt.rcParams['font.sans-serif'] = ['SimHei']   \n",
    "plt.rcParams['axes.unicode_minus'] = False "
   ]
  },
  {
   "cell_type": "code",
   "execution_count": 2,
   "id": "a750d509-976c-46b2-9b0a-5a02001a192e",
   "metadata": {},
   "outputs": [],
   "source": [
    "np.random.seed(150)\n",
    "x1 = np.random.randn(10, 2) + 4\n",
    "y1 = np.zeros(10)\n",
    "x2 = np.random.randn(10, 2) + 6\n",
    "y2 = np.zeros(10) + 1\n",
    "x = np.concatenate([x1, x2], axis=0)\n",
    "y = np.concatenate([y1, y2], axis=0)\n",
    "xt = np.array([[5, 3.5]])"
   ]
  },
  {
   "cell_type": "code",
   "execution_count": 3,
   "id": "f8177e78-dcbe-4713-8de2-b30c0303d7d3",
   "metadata": {},
   "outputs": [
    {
     "data": {
      "image/png": "[encoded data removed]",
      "text/plain": [
       "<Figure size 360x360 with 1 Axes>"
      ]
     },
     "metadata": {
      "needs_background": "light"
     },
     "output_type": "display_data"
    }
   ],
   "source": [
    "plt.figure(figsize=(5, 5))\n",
    "plt.scatter(x[:,0], x[:,1], c=y, cmap='bwr', alpha=0.5)\n",
    "plt.scatter(xt[:,0], xt[:,1], c='green', alpha=0.5)\n",
    "plt.xlim(0, 10)\n",
    "plt.ylim(0, 10)\n",
    "plt.show()"
   ]
  },
  {
   "cell_type": "code",
   "execution_count": 4,
   "id": "6c51256d-6cfb-4fa1-be3f-09bc1f4aee7b",
   "metadata": {},
   "outputs": [
    {
     "name": "stdout",
     "output_type": "stream",
     "text": [
      "lab = 0,  prb = 0.6363636363636364\n"
     ]
    }
   ],
   "source": [
    "rdo = 2.0\n",
    "cnt = 0\n",
    "lst_res = list()\n",
    "for i in range(len(x)):\n",
    "    xi, yi = x[i], y[i]\n",
    "    dis = np.sqrt(np.sum(np.power(xi-xt, 2)))\n",
    "    if dis<=rdo:\n",
    "        cnt += 1\n",
    "        lst_res.append((i, cnt, xi, yi, dis))\n",
    "\n",
    "labs = [i[3] for i in lst_res]\n",
    "labs = pd.Series(labs)\n",
    "labs = labs.value_counts()\n",
    "labs = labs / labs.sum()\n",
    "lab = labs.argmax()\n",
    "prb = labs[lab]\n",
    "\n",
    "print(f\"lab = {lab},  prb = {prb}\")"
   ]
  },
  {
   "cell_type": "code",
   "execution_count": 6,
   "id": "24517d21-3acf-4df4-b2fb-9f4ea1f6a6fd",
   "metadata": {},
   "outputs": [
    {
     "data": {
      "image/png": "[encoded data removed]",
      "text/plain": [
       "<Figure size 360x360 with 1 Axes>"
      ]
     },
     "metadata": {
      "needs_background": "light"
     },
     "output_type": "display_data"
    }
   ],
   "source": [
    "# 画圆\n",
    "fig = plt.figure(figsize=(5, 5))\n",
    "circle = plt.Circle((xt[0][0], xt[0][1]), rdo, color='green', fill=False)\n",
    "plt.gcf().gca().add_artist(circle)\n",
    "plt.axis('equal')\n",
    "plt.xlim(0, 10)\n",
    "plt.ylim(0, 10)\n",
    "\n",
    "plt.scatter(x[:,0], x[:,1], c=y, cmap='bwr', alpha=0.5)\n",
    "plt.scatter(xt[:,0], xt[:,1], c='green', alpha=0.5)\n",
    "plt.xlim(0, 10)\n",
    "plt.ylim(0, 10)\n",
    "plt.show()\n",
    "\n",
    "plt.show()"
   ]
  },
  {
   "cell_type": "code",
   "execution_count": null,
   "id": "de38f73b-371b-4ab7-8df7-0f361fac055d",
   "metadata": {},
   "outputs": [],
   "source": []
  }
 ],
 "metadata": {
  "kernelspec": {
   "display_name": "Python 3",
   "language": "python",
   "name": "python3"
  },
  "language_info": {
   "codemirror_mode": {
    "name": "ipython",
    "version": 3
   },
   "file_extension": ".py",
   "mimetype": "text/x-python",
   "name": "python",
   "nbconvert_exporter": "python",
   "pygments_lexer": "ipython3",
   "version": "3.8.8"
  }
 },
 "nbformat": 4,
 "nbformat_minor": 5
}
