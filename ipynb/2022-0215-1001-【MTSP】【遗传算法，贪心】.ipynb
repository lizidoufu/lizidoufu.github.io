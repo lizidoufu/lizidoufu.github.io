{
 "cells": [
  {
   "cell_type": "code",
   "execution_count": 1,
   "id": "93821789-ec29-4365-aab4-42d8d2bb7c5e",
   "metadata": {},
   "outputs": [],
   "source": [
    "import numpy as np\n",
    "import pandas as pd\n",
    "import matplotlib.pyplot as plt\n",
    "import warnings\n",
    "from copy import copy\n",
    "warnings.simplefilter(\"ignore\")\n",
    "plt.rcParams['font.sans-serif'] = ['SimHei']   \n",
    "plt.rcParams['axes.unicode_minus'] = False "
   ]
  },
  {
   "cell_type": "code",
   "execution_count": 2,
   "id": "18be572b-7b8d-4547-b94d-7a462153088d",
   "metadata": {},
   "outputs": [
    {
     "data": {
      "image/png": "[encoded data removed]",
      "text/plain": [
       "<Figure size 360x360 with 1 Axes>"
      ]
     },
     "metadata": {
      "needs_background": "light"
     },
     "output_type": "display_data"
    }
   ],
   "source": [
    "np.random.seed(5213)\n",
    "x = np.random.rand(20, 2) * 5  + 1.5\n",
    "\n",
    "plt.figure(figsize=(5, 5))\n",
    "plt.title(\"Samples\")\n",
    "plt.scatter(x[:, 0], x[:, 1], alpha=0.5)\n",
    "plt.xlim(0, 8)\n",
    "plt.ylim(0, 8)\n",
    "plt.show()"
   ]
  },
  {
   "cell_type": "code",
   "execution_count": 3,
   "id": "4d1503c8-6b05-4d7b-bc6f-c82878b7c885",
   "metadata": {},
   "outputs": [
    {
     "data": {
      "text/plain": [
       "([0, 10, 8, 11, 18, 5, 19, 13, 14, 0], 13.558441004456634)"
      ]
     },
     "execution_count": 3,
     "metadata": {},
     "output_type": "execute_result"
    }
   ],
   "source": [
    "# 使用贪心策略，求解一个回路的值\n",
    "points = [0, 5, 8, 10, 11, 13, 14, 18, 19, 0]\n",
    "def greed_cicle(x, points):\n",
    "    start, end = points[0], points[-1]\n",
    "    cands = [points[i] for i in range(1, len(points)-1)]\n",
    "    visit = [points[0]]\n",
    "    dis_ls = list()\n",
    "    while len(cands)>0:\n",
    "        now = visit[-1]\n",
    "        dis_min = np.inf\n",
    "        nxt_min = None\n",
    "        for nxt in cands:\n",
    "            x1, x2 = x[now], x[nxt]\n",
    "            dis = np.sqrt(np.sum(np.power(x1-x2, 2)))\n",
    "            if dis < dis_min:\n",
    "                dis_min = dis\n",
    "                nxt_min = nxt\n",
    "        visit.append(nxt_min)\n",
    "        cands.remove(nxt_min)\n",
    "        dis_ls.append(dis_min)\n",
    "        pass\n",
    "    \n",
    "    now, nxt = points[-2], points[-1]\n",
    "    x1, x2 = x[now], x[nxt]\n",
    "    dis = np.sqrt(np.sum(np.power(x1-x2, 2)))\n",
    "    visit.append(0)\n",
    "    dis_ls.append(dis)\n",
    "    dis_res = sum(dis_ls)\n",
    "    \n",
    "    return visit, dis_res\n",
    "greed_cicle(x, points)"
   ]
  },
  {
   "cell_type": "code",
   "execution_count": 4,
   "id": "0b4a0fc7-83dd-4fb0-af37-7e83eae9b9c0",
   "metadata": {},
   "outputs": [
    {
     "data": {
      "image/png": "[encoded data removed]",
      "text/plain": [
       "<Figure size 360x360 with 1 Axes>"
      ]
     },
     "metadata": {
      "needs_background": "light"
     },
     "output_type": "display_data"
    },
    {
     "name": "stdout",
     "output_type": "stream",
     "text": [
      "best_paths = 0 -> 10 -> 8 -> 11 -> 18 -> 5 -> 19 -> 13 -> 14 -> 0\n",
      "best_distance = 13.558441004456634\n"
     ]
    }
   ],
   "source": [
    "best_paths, best_distance = greed_cicle(x, points)\n",
    "\n",
    "plt.figure(figsize=(5, 5))\n",
    "plt.xlim(0, 8)\n",
    "plt.ylim(0, 8)\n",
    "plt.scatter(x[:, 0], x[:, 1], alpha=0.5)\n",
    "plt.scatter(x[0][0], x[0][1], c=\"blue\", edgecolors=\"black\", alpha=0.75, s=100)\n",
    "\n",
    "for i in range(len(best_paths)-1):\n",
    "    loc1, loc2 = best_paths[i], best_paths[i+1]\n",
    "    x1, y1 = x[loc1]\n",
    "    x2, y2 = x[loc2]\n",
    "    dx = x2 - x1\n",
    "    dy = y2 - y1\n",
    "    plt.quiver(x1, y1, dx, dy, angles='xy', scale=1, scale_units='xy', color=\"red\", alpha=0.5)\n",
    "\n",
    "for i in range(len(x)):\n",
    "    x1, y1 = x[i]\n",
    "    plt.annotate(i, xy=(x1, y1), xytext=(x1+0.15, y1))\n",
    "plt.show()\n",
    "\n",
    "print(f\"best_paths = {' -> '.join([str(i) for i in best_paths])}\")\n",
    "print(f\"best_distance = {best_distance}\")"
   ]
  },
  {
   "cell_type": "code",
   "execution_count": 5,
   "id": "6a9b2099-176e-4574-abec-772966e722cd",
   "metadata": {},
   "outputs": [],
   "source": [
    "'''\n",
    "遗传算法求解MTSP问题\n",
    "1、假如有n个点，需要m个回路，则每个生物体染色体形状为（m,n）\n",
    "2、m条染色体的n个位置中，同位置只有一个为1，其余为0（每列只能有1个1）\n",
    "3、m条染色体依次编码，只能在前一条染色体为0的位置，才能编辑为1（第2个圈只能选第1个圈剩下的节点）\n",
    "4、m条染色体的n个基因位，1出现的次数必须是1（0次表示有个节点没有被访问到），且只能是1次（2次以上表示有个节点被重复访问）\n",
    "5、m条染色体，除了起点，起码有1个位置是1（这个暂且搁置，如果为空说明不需要这条回路）\n",
    "6、每一条染色体，都化简成为tsp问题来求解最短路径（突然觉得好麻烦啊）\n",
    "'''\n",
    "\n",
    "\n",
    "class MTSP_GA(object):\n",
    "    def __init__(self, x, m, s, nums, min_pnt):\n",
    "        self.x = x  # 节点列表\n",
    "        self.n = len(x)  # 节点个数\n",
    "        self.m = m  # 回路个数（旅行商人的个数）\n",
    "        self.s = s\n",
    "        self.min_pnt = min_pnt\n",
    "        self.nums = nums # 生物体个数\n",
    "        self.colony = list() # 生物群，数量为200\n",
    "        self.colony_save = list() # 经过淘汰的生物群，数量为100\n",
    "        self.couples = list() # 生物群配对，50对伴侣\n",
    "        self.colony_circles = list()  # 生物群的回路表达\n",
    "        self.colony_behave = list()\n",
    "        return\n",
    "    \n",
    "    def born(self):\n",
    "        flag = True\n",
    "        gene = None\n",
    "        while flag:\n",
    "            gene = [[0 for _ in range(self.n+1)] for __ in range(self.m)]\n",
    "            for i in range(m):\n",
    "                gene[i][self.s] = 1\n",
    "                gene[i][-1] = 1\n",
    "            # print(gene)\n",
    "            seen = [0 for i in range(self.n+1)] # 用于记录m条染色体重，各个位置上是否已经有1\n",
    "            seen[0] = 1\n",
    "            seen[-1] = 1\n",
    "            for i in range(self.m-1): # 最后1条染色体另外处理，会将所有剩余节点标记为1\n",
    "                for j in range(1, self.n):\n",
    "                    if np.random.rand()>=(1 - 1/self.m) and seen[j]!=1:\n",
    "                        gene[i][j] = 1\n",
    "                        seen[j] = 1\n",
    "            for j in range(1, self.n): # 最后1条染色体，将剩余节点标记在染色体上\n",
    "                if seen[j]!=1:\n",
    "                    gene[self.m-1][j] = 1\n",
    "                    seen[j] = 1  \n",
    "            flag = False \n",
    "            for g in gene:\n",
    "                if sum(g)<=5: # 如果存在1条染色体只包含起点和终点，重新生成其余基因型\n",
    "                    flag = True\n",
    "                    break\n",
    "        return gene\n",
    "    \n",
    "    def born_colony(self):\n",
    "        self.colony = list()\n",
    "        for i in range(self.nums):\n",
    "            gene = self.born()\n",
    "            self.colony.append(gene)\n",
    "        return \n",
    "    \n",
    "    def appear(self): # 将基因线性表达成为回路\n",
    "        self.colony_circles = list()\n",
    "        for chromo in self.colony:\n",
    "            circle_m = list() # 一个生物体上的m条回路\n",
    "            for gene in chromo:\n",
    "                circle = list()  # 一条染色体上的回路\n",
    "                for bit in range(len(gene)-1):\n",
    "                    if gene[bit] == 1:\n",
    "                        circle.append(bit)\n",
    "                if gene[-1] == 1:\n",
    "                    circle.append(self.s)  # 最终回路要加上起点\n",
    "                circle_m.append(copy(circle))\n",
    "            self.colony_circles.append(copy(circle_m))                 \n",
    "        return\n",
    "    \n",
    "    def behave(self):\n",
    "        \n",
    "        # 按照总路径进行计算，结果得分保存到 self.colony_behave\n",
    "        self.colony_behave = list()\n",
    "        for i, circles in enumerate(self.colony_circles):\n",
    "            bst_pat_m = list()\n",
    "            bst_dis_m = list()\n",
    "            for points in circles:\n",
    "                bst_pat, bst_dis = greed_cicle(x, points)\n",
    "                bst_pat_m.append(copy(bst_pat))\n",
    "                bst_dis_m.append(copy(bst_dis))\n",
    "            bst_dis_s = sum(bst_dis_m)\n",
    "            self.colony_behave.append((copy(self.colony[i]), copy(bst_pat_m), copy(bst_dis_m), copy(bst_dis_s)))\n",
    "        \n",
    "        # 只保留50%的最优值，结果保存到 self.colony_save\n",
    "        self.colony_save = sorted(self.colony_behave, key=lambda x:x[3])[:nums//2]  \n",
    "        return\n",
    "    \n",
    "    def compire(self): # 对样本进行配对\n",
    "        self.couples = list()\n",
    "        nums = len(self.colony_save)\n",
    "        cands = list(range(nums))\n",
    "        np.random.shuffle(cands)\n",
    "        pair1 = list() # 雄性\n",
    "        pair2 = list() # 雌性\n",
    "        for i in range(0, nums, 2):\n",
    "            pair1.append(cands[i])\n",
    "            pair2.append(cands[i+1])\n",
    "        self.couples = list(zip(pair1, pair2))\n",
    "        # print(self.couples)\n",
    "        return\n",
    "    \n",
    "    def reproduction(self):\n",
    "        ger_ls = list()\n",
    "        for couple in self.couples:\n",
    "            flag = True\n",
    "            cnts = 0\n",
    "            while cnts<4:\n",
    "                id1, id2 = couple\n",
    "                an1, an2 = self.colony_save[id1], self.colony_save[id2]\n",
    "                ge1, ge2 = an1[0], an2[0]  # 染色体组合\n",
    "                nums = len(ge1)\n",
    "                bits = len(ge1[0])\n",
    "                sen = [1] + [0]*(bits-2) + [1]\n",
    "                ger = list()\n",
    "                for i in range(nums):\n",
    "                    g1, g2 = ge1[i], ge2[i] # 单条染色体的基因合租\n",
    "                    g = [1] + [0]*(bits-2) + [1] # 交配产生的新染色体\n",
    "                    for j in range(1, bits-1):\n",
    "                        if np.random.rand()>=0.5:\n",
    "                            g[j] = g1[j]\n",
    "                        else:\n",
    "                            g[j] = g2[j]\n",
    "                        if sen[j] == 1:\n",
    "                            g[j] = 0 # 如果该基因位被占用，只能被抑制成为0\n",
    "                        if g[j] == 1: \n",
    "                            sen[j] = 1 # 如果该基因位被占用，标记为1\n",
    "                    ger.append(copy(g))\n",
    "\n",
    "                # 从sen中找到还没被使用的基因位，随机放到m个染色体中的某一个\n",
    "                for k in range(len(sen)):\n",
    "                    if sen[k] == 0:\n",
    "                        ms = np.random.choice(range(len(ger))) # 被选中的染色体\n",
    "                        ger[ms][k] = 1\n",
    "\n",
    "                # 变异，按照5%的概率变异每条染色体\n",
    "                for i in range(nums):\n",
    "                    for j in range(1, bits-1):\n",
    "                        if np.random.randn()<0.05:\n",
    "                            tmp = ger[i][j]\n",
    "                            ks = [_ for _ in range(nums) if _ != i]\n",
    "                            if tmp == 0:\n",
    "                                ger[i][j] = 1\n",
    "                                for k in ks:\n",
    "                                    ger[k][j] = 0\n",
    "                            else:\n",
    "                                ger[i][j] = 0\n",
    "                                k = np.random.choice(ks)\n",
    "                                ger[k][j] = 1\n",
    "                # 如果生出来的基因型不满足5个节点，重新生\n",
    "                pnts = min([sum(v) for v in ger])\n",
    "                if pnts < self.min_pnt + 2:   # 等于7，去头去尾表示要经过其他5个城市\n",
    "                    continue\n",
    "                ger_ls.append(copy(ger))\n",
    "                cnts += 1\n",
    "        return ger_ls\n",
    "    \n",
    "    def run(self, loops):\n",
    "        self.born_colony()\n",
    "        best_result = None\n",
    "        best_dis = np.inf\n",
    "        for i in range(loops):\n",
    "            self.appear()\n",
    "            self.behave()\n",
    "            self.compire()\n",
    "            ger_ls = self.reproduction()\n",
    "            self.colony = ger_ls\n",
    "            if best_dis > self.colony_save[0][3]:\n",
    "                best_dis = self.colony_save[0][3]\n",
    "                best_result = copy(self.colony_save[0])\n",
    "            if i % 100 == 0:\n",
    "                print(f\"loop = {i}, finished!, best_dis = {best_result[3]}\")\n",
    "        return best_result\n",
    "    pass"
   ]
  },
  {
   "cell_type": "code",
   "execution_count": 6,
   "id": "cf103535-4c43-4cf4-8fbc-727f4b183a86",
   "metadata": {},
   "outputs": [
    {
     "name": "stdout",
     "output_type": "stream",
     "text": [
      "loop = 0, finished!, best_dis = 31.20734555207725\n",
      "loop = 100, finished!, best_dis = 28.327104669778215\n",
      "loop = 200, finished!, best_dis = 28.18710966028309\n",
      "loop = 300, finished!, best_dis = 27.333347409866064\n",
      "loop = 400, finished!, best_dis = 27.333347409866064\n",
      "loop = 500, finished!, best_dis = 27.333347409866064\n",
      "loop = 600, finished!, best_dis = 26.603616105437588\n",
      "loop = 700, finished!, best_dis = 26.603616105437588\n",
      "loop = 800, finished!, best_dis = 25.97639895089724\n",
      "loop = 900, finished!, best_dis = 25.97639895089724\n",
      "loop = 1000, finished!, best_dis = 25.97639895089724\n",
      "loop = 1100, finished!, best_dis = 25.97639895089724\n",
      "loop = 1200, finished!, best_dis = 25.97639895089724\n",
      "loop = 1300, finished!, best_dis = 25.97639895089724\n",
      "loop = 1400, finished!, best_dis = 25.837817123433375\n",
      "loop = 1500, finished!, best_dis = 25.837817123433375\n",
      "loop = 1600, finished!, best_dis = 25.837817123433375\n",
      "loop = 1700, finished!, best_dis = 25.837817123433375\n",
      "loop = 1800, finished!, best_dis = 25.837817123433375\n",
      "loop = 1900, finished!, best_dis = 25.837817123433375\n",
      "loop = 2000, finished!, best_dis = 25.14744390551658\n",
      "Wall time: 16min 56s\n"
     ]
    }
   ],
   "source": [
    "%%time\n",
    "\n",
    "m = 3 # 回路个数\n",
    "s = 0 # 起始地点\n",
    "nums = 200 # 生物群中的个体数\n",
    "min_pnt = 5 # 每条回路最少要包含的节点数\n",
    "mstp = MTSP_GA(x, m, s, nums, min_pnt)\n",
    "\n",
    "loops = 2000+1 # 迭代次数\n",
    "best_res = mstp.run(loops)"
   ]
  },
  {
   "cell_type": "code",
   "execution_count": 7,
   "id": "af1c7ed1-7d84-4f31-887e-27203fe8a19e",
   "metadata": {},
   "outputs": [
    {
     "data": {
      "image/png": "[encoded data removed]",
      "text/plain": [
       "<Figure size 360x360 with 1 Axes>"
      ]
     },
     "metadata": {
      "needs_background": "light"
     },
     "output_type": "display_data"
    },
    {
     "name": "stdout",
     "output_type": "stream",
     "text": [
      "bst_dis_ls = [4.983346638984058, 7.305431061233611, 12.858666205298912]\n",
      "best_distance = 25.14744390551658\n"
     ]
    }
   ],
   "source": [
    "plt.figure(figsize=(5, 5))\n",
    "plt.xlim(0, 8)\n",
    "plt.ylim(0, 8)\n",
    "plt.scatter(x[:, 0], x[:, 1], alpha=0.5)\n",
    "plt.scatter(x[0][0], x[0][1], c=\"blue\", edgecolors=\"black\", alpha=0.75, s=100)\n",
    "\n",
    "bst_paths_ls = best_res[1]\n",
    "bst_dis_ls = best_res[2]\n",
    "best_distance = best_res[3]\n",
    "colors = [\"red\", \"blue\", \"green\"]\n",
    "for c, best_paths in enumerate(bst_paths_ls):\n",
    "    for i in range(len(best_paths)-1):\n",
    "        loc1, loc2 = best_paths[i], best_paths[i+1]\n",
    "        x1, y1 = x[loc1]\n",
    "        x2, y2 = x[loc2]\n",
    "        dx = x2 - x1\n",
    "        dy = y2 - y1\n",
    "        plt.quiver(x1, y1, dx, dy, angles='xy', scale=1, scale_units='xy', color=colors[c], alpha=0.5)\n",
    "\n",
    "for i in range(len(x)):\n",
    "    x1, y1 = x[i]\n",
    "    plt.annotate(i, xy=(x1, y1), xytext=(x1+0.15, y1))\n",
    "\n",
    "plt.show()\n",
    "# print(f\"best_paths = {' -> '.join([str(i) for i in best_paths])}\")\n",
    "print(f\"bst_dis_ls = {bst_dis_ls}\")\n",
    "print(f\"best_distance = {best_distance}\")"
   ]
  },
  {
   "cell_type": "markdown",
   "id": "bf46ff0b-c695-4184-801d-3d4bc34b30e0",
   "metadata": {},
   "source": [
    "### 可以看出，贪心策略带来的小回路是有缺陷的；\n",
    "### 可以考虑用（贪心+蚁群）的算法来对单条回路进行优化\n",
    "### 先用贪心算法布下信息素，然后让蚂蚁优化这个路径；"
   ]
  },
  {
   "cell_type": "code",
   "execution_count": null,
   "id": "5b3c10db-d342-4936-a9ee-27a7adbb8675",
   "metadata": {},
   "outputs": [],
   "source": []
  }
 ],
 "metadata": {
  "kernelspec": {
   "display_name": "Python 3",
   "language": "python",
   "name": "python3"
  },
  "language_info": {
   "codemirror_mode": {
    "name": "ipython",
    "version": 3
   },
   "file_extension": ".py",
   "mimetype": "text/x-python",
   "name": "python",
   "nbconvert_exporter": "python",
   "pygments_lexer": "ipython3",
   "version": "3.8.8"
  }
 },
 "nbformat": 4,
 "nbformat_minor": 5
}
