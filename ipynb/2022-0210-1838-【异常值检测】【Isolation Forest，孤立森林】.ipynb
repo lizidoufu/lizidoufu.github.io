{
 "cells": [
  {
   "cell_type": "code",
   "execution_count": 1,
   "id": "68d2c212-b5ac-4469-9e29-57453a908cc4",
   "metadata": {},
   "outputs": [],
   "source": [
    "import numpy as np\n",
    "import pandas as pd\n",
    "import matplotlib.pyplot as plt\n",
    "import warnings\n",
    "from copy import copy\n",
    "warnings.simplefilter(\"ignore\")\n",
    "plt.rcParams['font.sans-serif'] = ['SimHei']   \n",
    "plt.rcParams['axes.unicode_minus'] = False "
   ]
  },
  {
   "cell_type": "code",
   "execution_count": 2,
   "id": "54ffcb9c-14e3-48f1-ae1f-62cbad04196b",
   "metadata": {},
   "outputs": [
    {
     "data": {
      "image/png": "[encoded data removed]",
      "text/plain": [
       "<Figure size 360x360 with 1 Axes>"
      ]
     },
     "metadata": {
      "needs_background": "light"
     },
     "output_type": "display_data"
    }
   ],
   "source": [
    "np.random.seed(4028239)\n",
    "x = np.random.randn(10, 2) * 1.5 + 5\n",
    "x_out = np.array([[1, 1]])\n",
    "x = np.concatenate([x, x_out])\n",
    "\n",
    "idx = np.arange(len(x)).reshape(-1, 1)\n",
    "x = np.concatenate([idx, x], axis=1)\n",
    "\n",
    "plt.figure(figsize=(5, 5))\n",
    "plt.scatter(x[:,1], x[:,2], cmap='Set1', alpha=0.5)\n",
    "plt.xlim(0, 10)\n",
    "plt.ylim(0, 10)\n",
    "plt.show()"
   ]
  },
  {
   "cell_type": "code",
   "execution_count": 3,
   "id": "edbdd46e-79a9-4501-be94-380cec7f3702",
   "metadata": {
    "tags": []
   },
   "outputs": [
    {
     "data": {
      "text/plain": [
       "id    x1        x2      \n",
       "0.0   5.679184  3.175162    0.584389\n",
       "1.0   5.569046  3.808617    0.549999\n",
       "2.0   5.586509  5.176433    0.549999\n",
       "3.0   5.023709  5.218660    0.579347\n",
       "4.0   5.632706  4.382866    0.513167\n",
       "5.0   6.176925  4.408230    0.545254\n",
       "6.0   7.107798  4.530831    0.584389\n",
       "7.0   7.376018  3.923215    0.604997\n",
       "8.0   8.994606  6.334403    0.713260\n",
       "9.0   5.076190  7.164733    0.683020\n",
       "10.0  1.000000  1.000000    0.798298\n",
       "dtype: float64"
      ]
     },
     "execution_count": 3,
     "metadata": {},
     "output_type": "execute_result"
    }
   ],
   "source": [
    "class Node(object):\n",
    "    def __init__(self, name, samples, dept):\n",
    "        self.name = name \n",
    "        self.samples = samples\n",
    "        self.dept = dept\n",
    "        self.child_nodes = list()\n",
    "        self.parent = None \n",
    "        self.split_f = None \n",
    "        self.split_x = None\n",
    "        self.child_left = None\n",
    "        self.child_right = None\n",
    "        self.children = list()\n",
    "        self.leaf = False \n",
    "        self.is_leaf()\n",
    "        self.split()\n",
    "        # self.show()\n",
    "        pass\n",
    "    \n",
    "    def show(self):\n",
    "        print(f\"=\" * 50)\n",
    "        print(f\"self.name = {self.name}\")\n",
    "        print(f\"self.samples.shape = {self.samples.shape}\")\n",
    "        print(f\"self.dept = {self.dept}\")\n",
    "        print(f\"self.leaf = {self.leaf}\")\n",
    "        print(f\"self.split_f = {self.split_f}\")\n",
    "        print(f\"self.split_x = {self.split_x}\")\n",
    "        print(f\"self.child_left.shape = {self.child_left.shape}\")\n",
    "        print(f\"self.child_right.shape = {self.child_right.shape}\")\n",
    "        print(f\"self.child_nodes = {[i.name for i in self.child_nodes]}\")\n",
    "        print(f\"=\" * 50)\n",
    "        pass \n",
    "    \n",
    "    \n",
    "    def is_leaf(self):\n",
    "        if len(self.samples)==1:\n",
    "            self.leaf = True\n",
    "        pass \n",
    "    \n",
    "    def split(self):\n",
    "        fes = self.samples.shape[1]\n",
    "        f = np.random.choice(np.array(list(range(1, fes)))) # 随机一个特征\n",
    "        x = self.samples[:, f]\n",
    "        xmin, xmax = x.min(), x.max()\n",
    "        xh = np.random.uniform(xmin, xmax) # 随机一个阈值（最大值和最小值之间）\n",
    "        self.split_f = f \n",
    "        self.split_x = xh \n",
    "        child_left, child_right = list(), list()\n",
    "        for i, v in enumerate(x):\n",
    "            if v>=xh:\n",
    "                child_right.append(self.samples[i])\n",
    "            else:\n",
    "                child_left.append(self.samples[i])\n",
    "        self.child_left = np.array(child_left)\n",
    "        self.child_right = np.array(child_right) \n",
    "        self.children = [self.child_left, self.child_right]\n",
    "        #print(self.child_left)\n",
    "        #print(self.child_right)\n",
    "        pass\n",
    "    \n",
    "    pass \n",
    "\n",
    "\n",
    "\n",
    "class Tree(object):\n",
    "    def __init__(self, x):\n",
    "        self.x = x\n",
    "        self.root = Node(\"root\", x, 1)\n",
    "        self.visited = list()\n",
    "        self.nodes = list()\n",
    "        self.dft = None \n",
    "        # self.generate(self.root)\n",
    "        self.generate_full()\n",
    "        self.score_samples()\n",
    "        # self.show()\n",
    "        pass\n",
    "    \n",
    "    def show(self):\n",
    "        # self.root.show()\n",
    "        print(self.dft)\n",
    "        pass\n",
    "    \n",
    "    def generate(self, root):\n",
    "        if root.leaf is False: # 非叶节点才会继续生长\n",
    "            sams = root.children\n",
    "            name = root.name\n",
    "            dept = root.dept\n",
    "            for i, sam in enumerate(sams):\n",
    "                node = Node(name+'-'+str(i), sam, dept+1)\n",
    "                node.parent = root \n",
    "                root.child_nodes.append(node)\n",
    "        pass \n",
    "    \n",
    "    def generate_full(self):\n",
    "        # 广度优先生长\n",
    "        self.generate(self.root) # 先生长出两个子节点\n",
    "        queue = copy(self.root.child_nodes) # 队列，先进先出，广度优先搜索\n",
    "        visit = [self.root]\n",
    "        while len(queue)>0:\n",
    "            node = queue[0]\n",
    "            self.nodes.append(node)\n",
    "            visit.append(node)\n",
    "            self.generate(node)\n",
    "            queue.extend(node.child_nodes)\n",
    "            queue.pop(0)\n",
    "        self.visited = [i.name for i in visit]\n",
    "        pass \n",
    "    \n",
    "    def score_samples(self):\n",
    "        res = [(i.name, i.leaf, i.dept) for i in self.nodes if i.leaf is True]\n",
    "        dft1 = pd.DataFrame(res, columns=[\"name\", \"is_leaf\", \"dept\"])\n",
    "        dat = [i.samples[0] for i in self.nodes if i.leaf is True]\n",
    "        dft2 = pd.DataFrame(dat, columns=[\"id\", \"x1\", \"x2\"])    \n",
    "        dft = pd.merge(dft1, dft2, left_index=True, right_index=True)\n",
    "        dft.sort_values(by=\"id\", inplace=True)\n",
    "        self.dft = dft.copy()\n",
    "        pass \n",
    "    pass \n",
    "\n",
    "\n",
    "class Forest(object):\n",
    "    def __init__(self, x, nums=10):\n",
    "        self.trees = list()\n",
    "        for i in range(nums):\n",
    "            tree = Tree(x)\n",
    "            self.trees.append(copy(tree))\n",
    "        self.abnormal_score()\n",
    "        pass\n",
    "    \n",
    "    def abnormal_score(self):\n",
    "        dfts = list()\n",
    "        for i, tree in enumerate(self.trees):\n",
    "            dft = copy(tree.dft)\n",
    "            dft = dft.set_index([\"id\", \"x1\", \"x2\"])[[\"dept\"]]\n",
    "            dft.rename(columns={\"dept\":\"dept-\"+str(i)})\n",
    "            dfts.append(dft)\n",
    "        dfts = pd.concat(dfts, axis=1)\n",
    "\n",
    "        cs = np.mean(dfts.max(axis=0))  # 每棵树的平均深度\n",
    "        hs = dfts.mean(axis=1) # 每个样本的平均高度\n",
    "        ss = np.power(2, -(hs/cs)) # 每个样本点的异常得分值\n",
    "        \"\"\"\n",
    "        如果异常得分接近 1，那么一定是异常点；\n",
    "        如果异常得分远小于 0.5，那么一定不是异常点；\n",
    "        如果异常得分所有点的得分都在 0.5 左右，那么样本中很可能不存在异常点。\n",
    "        \"\"\"\n",
    "        \n",
    "        self.abnormal_dft = ss.copy()\n",
    "    pass \n",
    "\n",
    "forest = Forest(x, nums=10)\n",
    "forest.abnormal_dft"
   ]
  },
  {
   "cell_type": "code",
   "execution_count": 4,
   "id": "ae7c3bf7-6a0d-41f5-8890-e1c0783a02ba",
   "metadata": {},
   "outputs": [
    {
     "data": {
      "image/png": "[encoded data removed]",
      "text/plain": [
       "<Figure size 360x360 with 1 Axes>"
      ]
     },
     "metadata": {
      "needs_background": "light"
     },
     "output_type": "display_data"
    }
   ],
   "source": [
    "res = pd.DataFrame(forest.abnormal_dft).reset_index()\n",
    "\n",
    "plt.figure(figsize=(5, 5))\n",
    "for i in range(len(res)):\n",
    "    item = res.iloc[i] \n",
    "    idx, x1, x2, prob = item \n",
    "    prob = round(prob, 2)\n",
    "    plt.scatter([x1], [x2], c='red', alpha=min((prob-0.45)*2, 1))\n",
    "    plt.annotate(prob, xy=(x1, x2), xytext=(x1+0.15, x2))\n",
    "plt.xlim(0, 10)\n",
    "plt.ylim(0, 10)\n",
    "plt.grid()\n",
    "plt.show()"
   ]
  },
  {
   "cell_type": "code",
   "execution_count": null,
   "id": "02c89e0f-e376-4984-9775-7ceb9954dc26",
   "metadata": {},
   "outputs": [],
   "source": []
  }
 ],
 "metadata": {
  "kernelspec": {
   "display_name": "Python 3",
   "language": "python",
   "name": "python3"
  },
  "language_info": {
   "codemirror_mode": {
    "name": "ipython",
    "version": 3
   },
   "file_extension": ".py",
   "mimetype": "text/x-python",
   "name": "python",
   "nbconvert_exporter": "python",
   "pygments_lexer": "ipython3",
   "version": "3.8.8"
  }
 },
 "nbformat": 4,
 "nbformat_minor": 5
}
