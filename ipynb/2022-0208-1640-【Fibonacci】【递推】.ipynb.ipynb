{
 "cells": [
  {
   "cell_type": "code",
   "execution_count": 15,
   "id": "a41ff17c-3c2d-47e6-814f-cc952caa87c5",
   "metadata": {},
   "outputs": [
    {
     "name": "stdout",
     "output_type": "stream",
     "text": [
      "0 1\n",
      "1 1\n",
      "2 2\n",
      "3 3\n",
      "4 5\n",
      "5 8\n",
      "6 13\n",
      "7 21\n",
      "8 34\n",
      "9 55\n"
     ]
    }
   ],
   "source": [
    "# 递推：按照运算规律，从头开始推算到结尾，每次调用都要从头计算\n",
    "\n",
    "def fibonacci(n):\n",
    "    if n==0 or n==1:\n",
    "        return 1\n",
    "    x1, x2, y = 1, 1, 2\n",
    "    for i in range(2, n + 1):\n",
    "        y = x1 + x2\n",
    "        x1, x2 = x2, y\n",
    "    return y\n",
    "\n",
    "for i in range(10):\n",
    "    print(i, fibonacci(i))"
   ]
  },
  {
   "cell_type": "code",
   "execution_count": null,
   "id": "ee725cec-29f1-44cc-ae4c-7ba4ebf94aea",
   "metadata": {},
   "outputs": [],
   "source": []
  },
  {
   "cell_type": "code",
   "execution_count": null,
   "id": "f727d256-dab2-4cbe-a9ac-b347a0c48dfb",
   "metadata": {},
   "outputs": [],
   "source": []
  }
 ],
 "metadata": {
  "kernelspec": {
   "display_name": "Python 3",
   "language": "python",
   "name": "python3"
  },
  "language_info": {
   "codemirror_mode": {
    "name": "ipython",
    "version": 3
   },
   "file_extension": ".py",
   "mimetype": "text/x-python",
   "name": "python",
   "nbconvert_exporter": "python",
   "pygments_lexer": "ipython3",
   "version": "3.8.8"
  }
 },
 "nbformat": 4,
 "nbformat_minor": 5
}
