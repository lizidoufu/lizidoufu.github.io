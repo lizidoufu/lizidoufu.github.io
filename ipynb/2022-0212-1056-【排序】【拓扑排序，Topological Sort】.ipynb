{
 "cells": [
  {
   "cell_type": "code",
   "execution_count": 1,
   "id": "3cd998d2-939a-43ce-b932-a501f88a12d1",
   "metadata": {},
   "outputs": [
    {
     "name": "stdout",
     "output_type": "stream",
     "text": [
      "['A', 'B', 'C', 'D', 'E', 'F']\n"
     ]
    }
   ],
   "source": [
    "\"\"\"\n",
    "# 转自：https://blog.csdn.net/qq_37738656/article/details/83316863\n",
    "1、拓扑排序是对有向无环图 DAG 节点的排序\n",
    "2、通过每个节点的【入度】来决定起始点，按照深度/广度优先搜索的思想，将所有入度为0的节点压入到stack或者queque中\n",
    "3、没弹出1个遍历过的节点，删除该节点与其他节点的边，其他相关节点的出入度减1，新入度为0的节点压入stack或queque；\n",
    "4、拓扑排序的结果不唯一；\n",
    "\"\"\"\n",
    "\n",
    "# 定义图结构\n",
    "graph = {\n",
    "    \"A\": [\"B\",\"C\"],\n",
    "    \"B\": [\"D\",\"E\"],\n",
    "    \"C\": [\"D\",\"E\"],\n",
    "    \"D\": [\"F\"],\n",
    "    \"E\": [\"F\"],\n",
    "    \"F\": [],\n",
    "}\n",
    "\n",
    "\n",
    "def TopologicalSort(G):\n",
    "    in_degrees = dict((u, 0) for u in G) # 创建入度字典\n",
    "    for u in G:\n",
    "        for v in G[u]:\n",
    "            in_degrees[v] += 1  # 获取每个节点的入度\n",
    "    Q = [u for u in G if in_degrees[u] == 0] # 使用列表作为队列并将入度为0的添加到队列中\n",
    "    res = []\n",
    "    while Q: # 当队列中有元素时执行\n",
    "        u = Q.pop(0) # 从队列首部取出元素\n",
    "        res.append(u) # 将取出的元素存入结果中\n",
    "        for v in G[u]: # 移除与取出元素相关的指向，即将所有与取出元素相关的元素的入度减少1\n",
    "            in_degrees[v] -= 1\n",
    "            if in_degrees[v] == 0: # 若被移除指向的元素入度为0，则添加到队列中\n",
    "                Q.append(v)\n",
    "    return res\n",
    "\n",
    "print(TopologicalSort(graph))"
   ]
  }
 ],
 "metadata": {
  "kernelspec": {
   "display_name": "Python 3",
   "language": "python",
   "name": "python3"
  },
  "language_info": {
   "codemirror_mode": {
    "name": "ipython",
    "version": 3
   },
   "file_extension": ".py",
   "mimetype": "text/x-python",
   "name": "python",
   "nbconvert_exporter": "python",
   "pygments_lexer": "ipython3",
   "version": "3.8.8"
  }
 },
 "nbformat": 4,
 "nbformat_minor": 5
}
