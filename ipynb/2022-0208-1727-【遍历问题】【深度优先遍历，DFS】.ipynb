{
 "cells": [
  {
   "cell_type": "code",
   "execution_count": 2,
   "id": "ed9e6fbd-41e7-47f1-93cf-7b93510523ff",
   "metadata": {},
   "outputs": [
    {
     "name": "stdout",
     "output_type": "stream",
     "text": [
      "A1 > B2 > C4 > D8 > D7 > C3 > D6 > D5 > B1 > C2 > D4 > D3 > C1 > D2 > D1\n"
     ]
    }
   ],
   "source": [
    "graph = {\n",
    "    'A1': ['B1', 'B2'],\n",
    "    'B1': ['C1', 'C2'],\n",
    "    'B2': ['C3', 'C4'],\n",
    "    'C1': ['D1', 'D2'],\n",
    "    'C2': ['D3', 'D4'],\n",
    "    'C3': ['D5', 'D6'],\n",
    "    'C4': ['D7', 'D8'],\n",
    "    'D1': [],\n",
    "    'D2': [],\n",
    "    'D3': [],\n",
    "    'D4': [],\n",
    "    'D5': [],\n",
    "    'D6': [],\n",
    "    'D7': [],\n",
    "    'D8': [],\n",
    "}\n",
    "\n",
    "\n",
    "def dfs(s):\n",
    "    global graph\n",
    "    stack = list()  \n",
    "    stack.append(s)  # 先将起点s压入到队列（队列存在数据，说明有可以出发的点）\n",
    "    seen = list()\n",
    "    while len(stack) > 0:  # 当队列不是空的时候\n",
    "        node = stack.pop(0) # 从尾部弹出节点 node（先入先出）\n",
    "        seen.append(node) # node进入已访问节点seen，标记node已经被访问\n",
    "        nodes = graph[node]  # node可以达到的下一步节点目标集合\n",
    "        for w in nodes: # 将所有node可以访问且未访问过的节点nodes，顺序压入到队列queue\n",
    "            if w not in seen:\n",
    "                stack.insert(0, w)\n",
    "                ## 当queue为空的时候，说明grahp中已经没有其他可以访问的节点了，退出循环\n",
    "    return seen\n",
    "\n",
    "path = dfs(\"A1\")\n",
    "print(\" > \".join(path))"
   ]
  },
  {
   "cell_type": "code",
   "execution_count": null,
   "id": "fb28a086-91c5-4bf3-90bc-1e02394f8ea5",
   "metadata": {},
   "outputs": [],
   "source": []
  }
 ],
 "metadata": {
  "kernelspec": {
   "display_name": "Python 3",
   "language": "python",
   "name": "python3"
  },
  "language_info": {
   "codemirror_mode": {
    "name": "ipython",
    "version": 3
   },
   "file_extension": ".py",
   "mimetype": "text/x-python",
   "name": "python",
   "nbconvert_exporter": "python",
   "pygments_lexer": "ipython3",
   "version": "3.8.8"
  }
 },
 "nbformat": 4,
 "nbformat_minor": 5
}
