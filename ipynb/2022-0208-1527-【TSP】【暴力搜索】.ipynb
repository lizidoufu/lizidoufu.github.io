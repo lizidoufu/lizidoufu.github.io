{
 "cells": [
  {
   "cell_type": "code",
   "execution_count": 1,
   "id": "c254beab-8e86-48cb-afa9-c259a7513183",
   "metadata": {},
   "outputs": [],
   "source": [
    "import numpy as np\n",
    "import pandas as pd\n",
    "import matplotlib.pyplot as plt\n",
    "import warnings\n",
    "from copy import copy, deepcopy\n",
    "warnings.simplefilter(\"ignore\")\n",
    "plt.rcParams['font.sans-serif'] = ['SimHei']   \n",
    "plt.rcParams['axes.unicode_minus'] = False "
   ]
  },
  {
   "cell_type": "code",
   "execution_count": 2,
   "id": "4aa89b5f-981f-4562-b0bf-0044a95bc473",
   "metadata": {},
   "outputs": [],
   "source": [
    "##################### 随机生成 k 个城市 #####################\n",
    "num_points = 10\n",
    "np.random.seed(5213)\n",
    "x = np.random.rand(num_points, 2) * 5  + 1.5\n",
    "# print(x)\n",
    "\n",
    "# 计算城市之间的距离\n",
    "mat_dis = np.zeros((num_points, num_points))\n",
    "for i in range(num_points):\n",
    "    for j in range(num_points):\n",
    "        mat_dis[i][j] = np.sqrt(np.sum(np.power(x[i]-x[j],2)))\n",
    "# print(mat_dis)\n",
    "\n",
    "dft_dis = pd.DataFrame(mat_dis)\n",
    "# dft_dis"
   ]
  },
  {
   "cell_type": "code",
   "execution_count": 3,
   "id": "18888993-b1c8-4390-af5e-ccde027c1ea1",
   "metadata": {},
   "outputs": [
    {
     "name": "stdout",
     "output_type": "stream",
     "text": [
      "362880\n",
      "[[0, 1, 2, 3, 4, 5, 6, 7, 8, 9, 0], [0, 1, 2, 3, 4, 5, 6, 7, 9, 8, 0], [0, 1, 2, 3, 4, 5, 6, 8, 7, 9, 0]]\n"
     ]
    }
   ],
   "source": [
    "##################### 获取所有路径#####################\n",
    "import itertools\n",
    "pnt_start = 0\n",
    "lst_points = list(range(num_points))\n",
    "lst_paths = itertools.permutations(lst_points, len(lst_points))\n",
    "lst_paths = [list(i) for i in lst_paths if i[0] == pnt_start]\n",
    "for v in lst_paths:\n",
    "    v.append(pnt_start)\n",
    "\n",
    "print(len(lst_paths))\n",
    "print(lst_paths[:3])"
   ]
  },
  {
   "cell_type": "code",
   "execution_count": 4,
   "id": "c685c81c-78c9-497a-976b-916bf4a24a2b",
   "metadata": {},
   "outputs": [
    {
     "name": "stdout",
     "output_type": "stream",
     "text": [
      "362880\n",
      "[27.608745465762524, 25.453115551354266, 30.044793511366375]\n"
     ]
    }
   ],
   "source": [
    "##################### 计算所有路径的距离#####################\n",
    "lst_dis = list()\n",
    "for path in lst_paths:\n",
    "    dis_path = 0\n",
    "    for i in range(len(path)-1):\n",
    "        p1, p2 = path[i], path[i+1]\n",
    "        x1, x2 = x[p1], x[p2]\n",
    "        # dis = np.sqrt(np.sum((x1-x2)**2) # 不要用**这个做乘方，结果会有误差，用numpy.power\n",
    "        dis = np.sqrt(np.sum(np.power(x1-x2, 2)))\n",
    "        dis_path += dis \n",
    "    lst_dis.append(dis_path)\n",
    "\n",
    "print(len(lst_dis))\n",
    "print(lst_dis[:3])"
   ]
  },
  {
   "cell_type": "code",
   "execution_count": 5,
   "id": "e5312af3-153a-4100-812f-08973bb285b0",
   "metadata": {},
   "outputs": [
    {
     "name": "stdout",
     "output_type": "stream",
     "text": [
      "min_id = 292505\n",
      "min_dis = 12.980578005958856\n",
      "min_path = [0, 8, 3, 1, 4, 6, 7, 9, 5, 2, 0]\n"
     ]
    }
   ],
   "source": [
    "##################### 最短路径 #####################\n",
    "min_dis = np.inf \n",
    "min_path = None \n",
    "min_id = None \n",
    "\n",
    "for i, v in enumerate(lst_dis):\n",
    "    if v<=min_dis:\n",
    "        min_id = i\n",
    "        min_dis = v \n",
    "        min_path = lst_paths[i]\n",
    "\n",
    "print(f\"min_id = {min_id}\")\n",
    "print(f\"min_dis = {min_dis}\")\n",
    "print(f\"min_path = {min_path}\")"
   ]
  },
  {
   "cell_type": "code",
   "execution_count": 6,
   "id": "93d93b37-20d6-48db-b8d9-e31cae6ea0da",
   "metadata": {},
   "outputs": [
    {
     "data": {
      "image/png": "[encoded data removed]",
      "text/plain": [
       "<Figure size 360x360 with 1 Axes>"
      ]
     },
     "metadata": {
      "needs_background": "light"
     },
     "output_type": "display_data"
    },
    {
     "name": "stdout",
     "output_type": "stream",
     "text": [
      "best_id = 292505\n",
      "best_paths = 0 -> 8 -> 3 -> 1 -> 4 -> 6 -> 7 -> 9 -> 5 -> 2 -> 0\n",
      "best_distance = 12.980578005958856\n"
     ]
    }
   ],
   "source": [
    "##################### 画出最短路径图 #####################\n",
    "best_id = min_id\n",
    "best_paths = min_path\n",
    "best_distance = min_dis\n",
    "\n",
    "plt.figure(figsize=(5, 5))\n",
    "plt.xlim(0, 8)\n",
    "plt.ylim(0, 8)\n",
    "plt.scatter(x[:, 0], x[:, 1], alpha=0.5)\n",
    "plt.scatter(x[0][0], x[0][1], c=\"blue\", edgecolors=\"black\", alpha=0.75, s=100)\n",
    "\n",
    "# 路径箭头\n",
    "for i in range(len(best_paths)-1):\n",
    "    loc1, loc2 = best_paths[i], best_paths[i+1]\n",
    "    x1, y1 = x[loc1]\n",
    "    x2, y2 = x[loc2]\n",
    "    dx = x2 - x1\n",
    "    dy = y2 - y1\n",
    "    plt.quiver(x1, y1, dx, dy, angles='xy', scale=1, scale_units='xy', color=\"red\", alpha=0.5)\n",
    "\n",
    "# 样本点注释\n",
    "for i in range(len(x)):\n",
    "    x1, y1 = x[i]\n",
    "    plt.annotate(i, xy=(x1, y1), xytext=(x1+0.15, y1))\n",
    "\n",
    "# 画图\n",
    "plt.show()\n",
    "    \n",
    "print(f\"best_id = {best_id}\")\n",
    "print(f\"best_paths = {' -> '.join([str(i) for i in best_paths])}\")\n",
    "print(f\"best_distance = {best_distance}\")"
   ]
  }
 ],
 "metadata": {
  "kernelspec": {
   "display_name": "Python 3",
   "language": "python",
   "name": "python3"
  },
  "language_info": {
   "codemirror_mode": {
    "name": "ipython",
    "version": 3
   },
   "file_extension": ".py",
   "mimetype": "text/x-python",
   "name": "python",
   "nbconvert_exporter": "python",
   "pygments_lexer": "ipython3",
   "version": "3.8.8"
  }
 },
 "nbformat": 4,
 "nbformat_minor": 5
}
