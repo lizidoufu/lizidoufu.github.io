{
 "cells": [
  {
   "cell_type": "code",
   "execution_count": 1,
   "id": "b43a0ac5-97b3-40a8-957c-41dea0b057f8",
   "metadata": {},
   "outputs": [
    {
     "name": "stdout",
     "output_type": "stream",
     "text": [
      "[1, 2, 3, 4]\n",
      "[1, 2, 4, 3]\n",
      "[1, 3, 2, 4]\n",
      "[1, 3, 4, 2]\n",
      "[1, 4, 2, 3]\n",
      "[1, 4, 3, 2]\n",
      "[2, 1, 3, 4]\n",
      "[2, 1, 4, 3]\n",
      "[2, 3, 1, 4]\n",
      "[2, 3, 4, 1]\n",
      "[2, 4, 1, 3]\n",
      "[2, 4, 3, 1]\n",
      "[3, 1, 2, 4]\n",
      "[3, 1, 4, 2]\n",
      "[3, 2, 1, 4]\n",
      "[3, 2, 4, 1]\n",
      "[3, 4, 1, 2]\n",
      "[3, 4, 2, 1]\n",
      "[4, 1, 2, 3]\n",
      "[4, 1, 3, 2]\n",
      "[4, 2, 1, 3]\n",
      "[4, 2, 3, 1]\n",
      "[4, 3, 1, 2]\n",
      "[4, 3, 2, 1]\n"
     ]
    }
   ],
   "source": [
    "visit = [True, True, True, True]\n",
    "temp = [\"\" for x in range(0, 4)]\n",
    "lst_res = list()\n",
    "\n",
    "def dfs(position):\n",
    "    if position == len(arr):\n",
    "        print(arr)\n",
    "        return\n",
    "    for index in range(0, len(arr)):\n",
    "        if visit[index] == True:\n",
    "            temp[position] = arr[index]\n",
    "            visit[index] = False # 试探\n",
    "            dfs(position + 1)\n",
    "            visit[index] = True # 回溯。非常重要\n",
    "\n",
    "arr = [1, 2, 3, 4]\n",
    "dfs(0)"
   ]
  },
  {
   "cell_type": "code",
   "execution_count": 7,
   "id": "973ce6d4-78eb-4f97-880b-c0dbd774de08",
   "metadata": {},
   "outputs": [
    {
     "name": "stdout",
     "output_type": "stream",
     "text": [
      "[[1, 2, 3], [1, 3, 2], [2, 1, 3], [2, 3, 1], [3, 1, 2], [3, 2, 1]]\n"
     ]
    }
   ],
   "source": [
    "# 回溯\n",
    "def back_track(points):\n",
    "    res = list()  # 结果\n",
    "    n = len(points)  # 最大层级数量\n",
    "    def dfs(path, points, dept, res):\n",
    "        if dept == n:\n",
    "            res.append(path.copy()) # 探测到指定层数，将路径结果赋值一份保存到res中\n",
    "            return\n",
    "        for i, v in enumerate(points):  # 遍历每一个候选节点\n",
    "            points.pop(i) # 按照索引位置，弹出节点\n",
    "            path.append(v) # 将弹出的数值，压入path尾端\n",
    "            dfs(path, points, dept + 1, res)  # 深度优先搜索（向下一级搜索）\n",
    "            ## path已经增加了元素，points则减少了元素，dept增加1层，res到达最底层的时候添加一份path的复制值\n",
    "            path.pop(-1)  # 回溯（回到上一个状态，将path压入尾端的元素v弹出）\n",
    "            points.insert(i, v) # 回溯（在原来i位置弹出的v元素，重新压会到i的位置）\n",
    "        return\n",
    "    dfs([], points, 0, res)\n",
    "    return res\n",
    "\n",
    "res = back_track([1, 2, 3])\n",
    "print(res)"
   ]
  },
  {
   "cell_type": "code",
   "execution_count": null,
   "id": "699e6416-b8b8-40ef-acdb-a570d1822ca4",
   "metadata": {},
   "outputs": [],
   "source": []
  }
 ],
 "metadata": {
  "kernelspec": {
   "display_name": "Python 3",
   "language": "python",
   "name": "python3"
  },
  "language_info": {
   "codemirror_mode": {
    "name": "ipython",
    "version": 3
   },
   "file_extension": ".py",
   "mimetype": "text/x-python",
   "name": "python",
   "nbconvert_exporter": "python",
   "pygments_lexer": "ipython3",
   "version": "3.8.8"
  }
 },
 "nbformat": 4,
 "nbformat_minor": 5
}
