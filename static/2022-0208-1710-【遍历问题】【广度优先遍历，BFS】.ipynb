{
 "cells": [
  {
   "cell_type": "code",
   "execution_count": 3,
   "id": "0d256750-e827-4d96-9fea-5213399ace9e",
   "metadata": {},
   "outputs": [
    {
     "name": "stdout",
     "output_type": "stream",
     "text": [
      "A1 > B1 > B2 > C1 > C2 > C3 > C4 > D1 > D2 > D3 > D4 > D5 > D6 > D7 > D8\n"
     ]
    }
   ],
   "source": [
    "graph = {\n",
    "    'A1': ['B1', 'B2'],\n",
    "    'B1': ['C1', 'C2'],\n",
    "    'B2': ['C3', 'C4'],\n",
    "    'C1': ['D1', 'D2'],\n",
    "    'C2': ['D3', 'D4'],\n",
    "    'C3': ['D5', 'D6'],\n",
    "    'C4': ['D7', 'D8'],\n",
    "    'D1': [],\n",
    "    'D2': [],\n",
    "    'D3': [],\n",
    "    'D4': [],\n",
    "    'D5': [],\n",
    "    'D6': [],\n",
    "    'D7': [],\n",
    "    'D8': [],\n",
    "}\n",
    "\n",
    "\n",
    "def bfs(s):\n",
    "    global graph\n",
    "    queue = list()  \n",
    "    queue.append(s)  # 先将起点s压入到队列（队列存在数据，说明有可以出发的点）\n",
    "    seen = list()\n",
    "    while len(queue) > 0:  # 当队列不是空的时候\n",
    "        node = queue.pop(-1) # 从尾部弹出节点 node（先入先出）\n",
    "        seen.append(node) # node进入已访问节点seen，标记node已经被访问\n",
    "        nodes = graph[node]  # node可以达到的下一步节点目标集合\n",
    "        # 将所有node可以访问且未访问过的节点nodes，顺序压入到队列queue\n",
    "        for w in nodes:\n",
    "            if w not in seen:\n",
    "                queue.insert(0, w)\n",
    "                ## 当queue为空的时候，说明grahp中已经没有其他可以访问的节点了，退出循环\n",
    "    return seen\n",
    "\n",
    "path = bfs(\"A1\")\n",
    "print(\" > \".join(path))"
   ]
  },
  {
   "cell_type": "code",
   "execution_count": 2,
   "id": "bfb9a84d-3e10-41b9-b246-8cac19213430",
   "metadata": {},
   "outputs": [
    {
     "data": {
      "text/plain": [
       "3"
      ]
     },
     "execution_count": 2,
     "metadata": {},
     "output_type": "execute_result"
    }
   ],
   "source": [
    "[0,1,2,3].pop()"
   ]
  },
  {
   "cell_type": "code",
   "execution_count": null,
   "id": "db49ec1b-6293-4aee-bc2e-9810610a3702",
   "metadata": {},
   "outputs": [],
   "source": []
  }
 ],
 "metadata": {
  "kernelspec": {
   "display_name": "Python 3",
   "language": "python",
   "name": "python3"
  },
  "language_info": {
   "codemirror_mode": {
    "name": "ipython",
    "version": 3
   },
   "file_extension": ".py",
   "mimetype": "text/x-python",
   "name": "python",
   "nbconvert_exporter": "python",
   "pygments_lexer": "ipython3",
   "version": "3.8.8"
  }
 },
 "nbformat": 4,
 "nbformat_minor": 5
}
