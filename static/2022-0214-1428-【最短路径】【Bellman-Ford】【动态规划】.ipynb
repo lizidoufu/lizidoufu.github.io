{
 "cells": [
  {
   "cell_type": "code",
   "execution_count": 1,
   "id": "8e0027a1-3972-4b08-9ccc-29f67e12a0ad",
   "metadata": {},
   "outputs": [],
   "source": [
    "import numpy as np\n",
    "import pandas as pd\n",
    "import matplotlib.pyplot as plt\n",
    "import warnings\n",
    "import copy\n",
    "warnings.simplefilter(\"ignore\")\n",
    "plt.rcParams['font.sans-serif'] = ['SimHei']   \n",
    "plt.rcParams['axes.unicode_minus'] = False "
   ]
  },
  {
   "cell_type": "code",
   "execution_count": 2,
   "id": "2699ab06-c1ff-49aa-b415-876baed57f02",
   "metadata": {},
   "outputs": [
    {
     "name": "stdout",
     "output_type": "stream",
     "text": [
      "{0: [1, 2], 1: [6, 5], 6: [7], 7: [9, 1, 6, 8], 9: [4], 5: [3], 3: [8], 8: [9, 3]}\n"
     ]
    },
    {
     "data": {
      "image/png": "[encoded data removed]",
      "text/plain": [
       "<Figure size 360x360 with 1 Axes>"
      ]
     },
     "metadata": {
      "needs_background": "light"
     },
     "output_type": "display_data"
    }
   ],
   "source": [
    "np.random.seed(43134)\n",
    "x = np.random.rand(10, 2) * 5  + 1.5\n",
    "x[0] += np.array([1, 0.5])\n",
    "x[4] += np.array([-1, 1])\n",
    "\n",
    "# 创建路线\n",
    "graph = dict()\n",
    "graph[0] = [1,2]\n",
    "graph[1] = [6,5]\n",
    "graph[6] = [7]\n",
    "graph[7] = [9, 1, 6, 8]\n",
    "graph[9] = [4]\n",
    "graph[5] = [3]\n",
    "graph[3] = [8]\n",
    "graph[8] = [9, 3]\n",
    "# graph[2] = [4]\n",
    "print(graph)\n",
    "\n",
    "# 地图线\n",
    "plt.figure(figsize=(5, 5))\n",
    "plt.title(\"Samples\")\n",
    "plt.scatter(x[:, 0], x[:, 1], alpha=0.5)\n",
    "\n",
    "for k, vs in graph.items():\n",
    "    for v in vs:\n",
    "        x1, y1 = x[k]\n",
    "        x2, y2 = x[v]\n",
    "        plt.plot([x1, x2], [y1, y2], 'r-', alpha=0.2)\n",
    "\n",
    "for i in range(len(x)):\n",
    "    x1, y1 = x[i]\n",
    "    plt.annotate(i, xy=(x1, y1), xytext=(x1+0.15, y1-0.1))\n",
    "\n",
    "plt.xlim(0, 8)\n",
    "plt.ylim(0, 8)\n",
    "plt.show()"
   ]
  },
  {
   "cell_type": "code",
   "execution_count": 3,
   "id": "ec036701-b999-4a05-a8fb-71e3d5a17a34",
   "metadata": {},
   "outputs": [],
   "source": [
    "# 构建距离矩阵\n",
    "n = len(x)\n",
    "dis_map = np.zeros((n, n)) + np.inf\n",
    "for i in range(n):\n",
    "    dis_map[i][i] = 0\n",
    "\n",
    "# 各点之间的距离矩阵\n",
    "for k, vs in graph.items():\n",
    "    for v in vs:\n",
    "        x1,y1 = x[k]\n",
    "        x2,y2 = x[v]\n",
    "        dis = np.sqrt(np.power(x1-x2, 2) + np.power(y1-y2, 2))\n",
    "        dis_map[k, v] = dis_map[v][k] = dis  \n",
    "\n",
    "dis_map[7][1] = -1.25\n",
    "dis_map[7][6] = -1.25\n",
    "dis_map[7][8] = -1.25\n",
    "dis_map[8][3] = 1.25"
   ]
  },
  {
   "cell_type": "code",
   "execution_count": 4,
   "id": "675be01a-a75d-4779-bc19-73a519090eb8",
   "metadata": {},
   "outputs": [
    {
     "name": "stdout",
     "output_type": "stream",
     "text": [
      "count = 126\n"
     ]
    }
   ],
   "source": [
    "# 构建距离矩阵\n",
    "n = len(x)\n",
    "dis_map = np.zeros((n, n)) + np.inf\n",
    "for i in range(n):\n",
    "    dis_map[i][i] = 0\n",
    "\n",
    "# 各点之间的距离矩阵\n",
    "for k, vs in graph.items():\n",
    "    for v in vs:\n",
    "        x1,y1 = x[k]\n",
    "        x2,y2 = x[v]\n",
    "        dis = np.sqrt(np.power(x1-x2, 2) + np.power(y1-y2, 2))\n",
    "        dis_map[k, v] = dis_map[v][k] = dis  \n",
    "\n",
    "dis_map[7][1] = -1.25\n",
    "dis_map[7][6] = -1.25\n",
    "dis_map[7][8] = -1.25\n",
    "dis_map[8][3] = 1.25\n",
    "# print(f\"dis_map = {dis_map}\")\n",
    "\n",
    "\n",
    "start = 0 # 起点\n",
    "nodes = [i for i in range(n) if i!=start] # 节点\n",
    "disls = dis_map[start].copy() # 起点到其余各点的距离\n",
    "lnkls = [[start, i] for i in range(n)]\n",
    "edges = list() # 边的数量\n",
    "for u in graph:\n",
    "    for v in graph[u]:\n",
    "        edges.append((u, v, dis_map[u, v]))\n",
    "\n",
    "count = 0\n",
    "def bellman_ford():\n",
    "    # for node in nodes: # node 没起到什么作用，就是对 edges 遍历 n-1 次，修改成 range(n-1) 也是成立的\n",
    "    for i in range(n-1):\n",
    "        for edge in edges: \n",
    "            u, v, w = edge # 从edge的角度出发，判断(start, u)和(start,v)之间，能否通过(u,v)直连距离优化最短路径\n",
    "            global count\n",
    "            count += 1\n",
    "            if disls[v] > disls[u] + w:  # 其实就是判断 dis(start, v)>dis(start, u) + dis(u, v)\n",
    "                disls[v] = disls[u] + w\n",
    "                lnkls[v] = lnkls[u] + [v]\n",
    "            pass\n",
    "    return\n",
    "\n",
    "bellman_ford()\n",
    "# print(f\"disls = {disls}\")\n",
    "# print(f\"lnkls = {lnkls}\")\n",
    "# print(f\"edges = {edges}\")\n",
    "print(f\"count = {count}\")"
   ]
  },
  {
   "cell_type": "code",
   "execution_count": 5,
   "id": "460ff656-1d95-4076-99cb-6b82bae9cccf",
   "metadata": {},
   "outputs": [
    {
     "name": "stdout",
     "output_type": "stream",
     "text": [
      "([0, 0], 0.0)\n",
      "([0, 1], 1.4571179270728054)\n",
      "([0, 2], 2.3796749082696893)\n",
      "([0, 1, 6, 7, 8, 3], 4.964303581525024)\n",
      "([0, 1, 6, 7, 8, 9, 4], 6.828241846250675)\n",
      "([0, 1, 5], 4.406218061407023)\n",
      "([0, 1, 6], 3.270471455366794)\n",
      "([0, 1, 6, 7], 4.964303581525024)\n",
      "([0, 1, 6, 7, 8], 3.714303581525024)\n",
      "([0, 1, 6, 7, 8, 9], 5.11568810355875)\n"
     ]
    }
   ],
   "source": [
    "import graphviz\n",
    "f = graphviz.Digraph('points_graph', filename='points_graph', format=\"png\")\n",
    "f.attr(rankdir='LR', size='8,5')\n",
    "f.attr('node', shape='doublecircle')\n",
    "for node in graph:\n",
    "    for node2 in graph[node]:\n",
    "        f.edge(str(node), str(node2), label=f'{dis_map[node][node2].round(2)}')\n",
    "\n",
    "for i in zip(lnkls, disls):\n",
    "    print(i)"
   ]
  },
  {
   "cell_type": "code",
   "execution_count": 6,
   "id": "b77e3f5f-5acd-4dd6-a8e5-26a35175db1e",
   "metadata": {},
   "outputs": [
    {
     "data": {
      "text/plain": [
       "'..\\\\img\\\\2022-0214-1709-bellman_ford.png'"
      ]
     },
     "execution_count": 6,
     "metadata": {},
     "output_type": "execute_result"
    }
   ],
   "source": [
    "f.render(\"../img/2022-0214-1709-bellman_ford\", format=\"png\")"
   ]
  },
  {
   "cell_type": "markdown",
   "id": "bfd7d00a-8f04-4b65-80fb-c70b3bdbbd17",
   "metadata": {},
   "source": [
    "!['bellman_ford.png'](../img/2022-0214-1709-bellman_ford.png)"
   ]
  }
 ],
 "metadata": {
  "kernelspec": {
   "display_name": "Python 3",
   "language": "python",
   "name": "python3"
  },
  "language_info": {
   "codemirror_mode": {
    "name": "ipython",
    "version": 3
   },
   "file_extension": ".py",
   "mimetype": "text/x-python",
   "name": "python",
   "nbconvert_exporter": "python",
   "pygments_lexer": "ipython3",
   "version": "3.8.8"
  }
 },
 "nbformat": 4,
 "nbformat_minor": 5
}
