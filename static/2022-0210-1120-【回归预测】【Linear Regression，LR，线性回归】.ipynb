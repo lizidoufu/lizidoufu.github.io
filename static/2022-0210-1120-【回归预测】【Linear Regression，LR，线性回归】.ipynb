{
 "cells": [
  {
   "cell_type": "code",
   "execution_count": 1,
   "id": "12fde412-a4a4-4b04-95d3-6faef31e84f4",
   "metadata": {},
   "outputs": [],
   "source": [
    "import numpy as np\n",
    "import pandas as pd\n",
    "import matplotlib.pyplot as plt\n",
    "import warnings\n",
    "import copy\n",
    "warnings.simplefilter(\"ignore\")\n",
    "plt.rcParams['font.sans-serif'] = ['SimHei']   \n",
    "plt.rcParams['axes.unicode_minus'] = False "
   ]
  },
  {
   "cell_type": "code",
   "execution_count": 2,
   "id": "8ca183b4-2fce-4447-aa2c-27ee6bedc597",
   "metadata": {},
   "outputs": [
    {
     "data": {
      "image/png": "[encoded data removed]",
      "text/plain": [
       "<Figure size 864x216 with 1 Axes>"
      ]
     },
     "metadata": {
      "needs_background": "light"
     },
     "output_type": "display_data"
    }
   ],
   "source": [
    "np.random.seed(242231)\n",
    "x = np.arange(0, 10, 0.1)\n",
    "y = 3.75 + 2.33 * x + np.random.randn(len(x)) \n",
    "plt.figure(figsize=(12, 3))\n",
    "plt.plot(x, y, 'ro-', alpha=0.5)\n",
    "plt.show()"
   ]
  },
  {
   "cell_type": "code",
   "execution_count": 3,
   "id": "dcf8a95b-4877-4c68-9dc2-b458971dbe09",
   "metadata": {},
   "outputs": [
    {
     "data": {
      "text/html": [
       "<div>\n",
       "<style scoped>\n",
       "    .dataframe tbody tr th:only-of-type {\n",
       "        vertical-align: middle;\n",
       "    }\n",
       "\n",
       "    .dataframe tbody tr th {\n",
       "        vertical-align: top;\n",
       "    }\n",
       "\n",
       "    .dataframe thead th {\n",
       "        text-align: right;\n",
       "    }\n",
       "</style>\n",
       "<table border=\"1\" class=\"dataframe\">\n",
       "  <thead>\n",
       "    <tr style=\"text-align: right;\">\n",
       "      <th></th>\n",
       "      <th>i</th>\n",
       "      <th>w</th>\n",
       "      <th>b</th>\n",
       "      <th>mse</th>\n",
       "      <th>dw</th>\n",
       "      <th>db</th>\n",
       "    </tr>\n",
       "  </thead>\n",
       "  <tbody>\n",
       "    <tr>\n",
       "      <th>0</th>\n",
       "      <td>0</td>\n",
       "      <td>4.650357</td>\n",
       "      <td>0.610978</td>\n",
       "      <td>123.511990</td>\n",
       "      <td>-89.082759</td>\n",
       "      <td>-14.468898</td>\n",
       "    </tr>\n",
       "    <tr>\n",
       "      <th>1</th>\n",
       "      <td>1</td>\n",
       "      <td>1.612862</td>\n",
       "      <td>0.195851</td>\n",
       "      <td>58.182272</td>\n",
       "      <td>60.749913</td>\n",
       "      <td>8.302530</td>\n",
       "    </tr>\n",
       "    <tr>\n",
       "      <th>2</th>\n",
       "      <td>2</td>\n",
       "      <td>3.664918</td>\n",
       "      <td>0.553261</td>\n",
       "      <td>28.010009</td>\n",
       "      <td>-41.041133</td>\n",
       "      <td>-7.148200</td>\n",
       "    </tr>\n",
       "    <tr>\n",
       "      <th>3</th>\n",
       "      <td>3</td>\n",
       "      <td>2.259552</td>\n",
       "      <td>0.384917</td>\n",
       "      <td>14.063818</td>\n",
       "      <td>28.107327</td>\n",
       "      <td>3.366891</td>\n",
       "    </tr>\n",
       "    <tr>\n",
       "      <th>4</th>\n",
       "      <td>4</td>\n",
       "      <td>3.203111</td>\n",
       "      <td>0.572818</td>\n",
       "      <td>7.606657</td>\n",
       "      <td>-18.871182</td>\n",
       "      <td>-3.758017</td>\n",
       "    </tr>\n",
       "    <tr>\n",
       "      <th>...</th>\n",
       "      <td>...</td>\n",
       "      <td>...</td>\n",
       "      <td>...</td>\n",
       "      <td>...</td>\n",
       "      <td>...</td>\n",
       "      <td>...</td>\n",
       "    </tr>\n",
       "    <tr>\n",
       "      <th>95</th>\n",
       "      <td>95</td>\n",
       "      <td>2.461047</td>\n",
       "      <td>2.869173</td>\n",
       "      <td>0.702428</td>\n",
       "      <td>0.042507</td>\n",
       "      <td>-0.279831</td>\n",
       "    </tr>\n",
       "    <tr>\n",
       "      <th>96</th>\n",
       "      <td>96</td>\n",
       "      <td>2.458948</td>\n",
       "      <td>2.882991</td>\n",
       "      <td>0.698447</td>\n",
       "      <td>0.041980</td>\n",
       "      <td>-0.276360</td>\n",
       "    </tr>\n",
       "    <tr>\n",
       "      <th>97</th>\n",
       "      <td>97</td>\n",
       "      <td>2.456875</td>\n",
       "      <td>2.896637</td>\n",
       "      <td>0.694565</td>\n",
       "      <td>0.041459</td>\n",
       "      <td>-0.272932</td>\n",
       "    </tr>\n",
       "    <tr>\n",
       "      <th>98</th>\n",
       "      <td>98</td>\n",
       "      <td>2.454828</td>\n",
       "      <td>2.910115</td>\n",
       "      <td>0.690778</td>\n",
       "      <td>0.040945</td>\n",
       "      <td>-0.269546</td>\n",
       "    </tr>\n",
       "    <tr>\n",
       "      <th>99</th>\n",
       "      <td>99</td>\n",
       "      <td>2.452806</td>\n",
       "      <td>2.923425</td>\n",
       "      <td>0.687084</td>\n",
       "      <td>0.040437</td>\n",
       "      <td>-0.266203</td>\n",
       "    </tr>\n",
       "  </tbody>\n",
       "</table>\n",
       "<p>100 rows × 6 columns</p>\n",
       "</div>"
      ],
      "text/plain": [
       "     i         w         b         mse         dw         db\n",
       "0    0  4.650357  0.610978  123.511990 -89.082759 -14.468898\n",
       "1    1  1.612862  0.195851   58.182272  60.749913   8.302530\n",
       "2    2  3.664918  0.553261   28.010009 -41.041133  -7.148200\n",
       "3    3  2.259552  0.384917   14.063818  28.107327   3.366891\n",
       "4    4  3.203111  0.572818    7.606657 -18.871182  -3.758017\n",
       "..  ..       ...       ...         ...        ...        ...\n",
       "95  95  2.461047  2.869173    0.702428   0.042507  -0.279831\n",
       "96  96  2.458948  2.882991    0.698447   0.041980  -0.276360\n",
       "97  97  2.456875  2.896637    0.694565   0.041459  -0.272932\n",
       "98  98  2.454828  2.910115    0.690778   0.040945  -0.269546\n",
       "99  99  2.452806  2.923425    0.687084   0.040437  -0.266203\n",
       "\n",
       "[100 rows x 6 columns]"
      ]
     },
     "execution_count": 3,
     "metadata": {},
     "output_type": "execute_result"
    }
   ],
   "source": [
    "np.random.seed(13013)\n",
    "w = np.random.randn()\n",
    "b = np.random.randn()\n",
    "\n",
    "ls_res = list()\n",
    "for i in range(100):\n",
    "    y_ = b + w*x\n",
    "    mse = 0.5 * np.mean(np.power((y-y_), 2))\n",
    "    dw = -np.mean((y-y_)*x)\n",
    "    db = -np.mean((y-y_)*1)\n",
    "    w -= dw*0.05 # 不设置学习率，结果模型爆炸了\n",
    "    b -= db*0.05\n",
    "    ls_res.append((i, w, b, mse, dw, db))\n",
    "\n",
    "df_res = pd.DataFrame(ls_res, columns=(\"i\", \"w\", \"b\", \"mse\", \"dw\", \"db\"))\n",
    "df_res"
   ]
  },
  {
   "cell_type": "code",
   "execution_count": 4,
   "id": "d4776b2f-b482-42ec-bac8-b11b59aa34c9",
   "metadata": {},
   "outputs": [
    {
     "data": {
      "image/png": "[encoded data removed]",
      "text/plain": [
       "<Figure size 864x216 with 1 Axes>"
      ]
     },
     "metadata": {
      "needs_background": "light"
     },
     "output_type": "display_data"
    }
   ],
   "source": [
    "plt.figure(figsize=(12, 3))\n",
    "plt.plot(x, y, 'ro-', alpha=0.5, label='origin')\n",
    "plt.plot(x, y_, 'b-', alpha=0.5, label='fit')\n",
    "plt.legend()\n",
    "plt.show()"
   ]
  },
  {
   "cell_type": "code",
   "execution_count": null,
   "id": "0595464e-ef11-46e9-b7df-207b99901603",
   "metadata": {},
   "outputs": [],
   "source": []
  }
 ],
 "metadata": {
  "kernelspec": {
   "display_name": "Python 3",
   "language": "python",
   "name": "python3"
  },
  "language_info": {
   "codemirror_mode": {
    "name": "ipython",
    "version": 3
   },
   "file_extension": ".py",
   "mimetype": "text/x-python",
   "name": "python",
   "nbconvert_exporter": "python",
   "pygments_lexer": "ipython3",
   "version": "3.8.8"
  }
 },
 "nbformat": 4,
 "nbformat_minor": 5
}
