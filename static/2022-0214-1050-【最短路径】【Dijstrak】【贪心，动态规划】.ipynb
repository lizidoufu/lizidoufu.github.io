{
 "cells": [
  {
   "cell_type": "code",
   "execution_count": 1,
   "id": "7bdee0df-78cf-46bf-8d19-733b9015d1d6",
   "metadata": {},
   "outputs": [],
   "source": [
    "import numpy as np\n",
    "import pandas as pd\n",
    "import matplotlib.pyplot as plt\n",
    "import warnings\n",
    "import copy\n",
    "warnings.simplefilter(\"ignore\")\n",
    "plt.rcParams['font.sans-serif'] = ['SimHei']   \n",
    "plt.rcParams['axes.unicode_minus'] = False "
   ]
  },
  {
   "cell_type": "code",
   "execution_count": 2,
   "id": "a148ee63-e206-46d1-bac3-28e775555cc8",
   "metadata": {},
   "outputs": [
    {
     "name": "stdout",
     "output_type": "stream",
     "text": [
      "{0: [1, 2], 1: [6, 5], 6: [7], 7: [9], 9: [4], 5: [3], 3: [8], 8: [9]}\n"
     ]
    },
    {
     "data": {
      "image/png": "[encoded data removed]",
      "text/plain": [
       "<Figure size 360x360 with 1 Axes>"
      ]
     },
     "metadata": {
      "needs_background": "light"
     },
     "output_type": "display_data"
    }
   ],
   "source": [
    "np.random.seed(43134)\n",
    "x = np.random.rand(10, 2) * 5  + 1.5\n",
    "x[0] += np.array([1, 0.5])\n",
    "x[4] += np.array([-1, 1])\n",
    "\n",
    "# 创建路线\n",
    "graph = dict()\n",
    "graph[0] = [1,2]\n",
    "graph[1] = [6,5]\n",
    "graph[6] = [7]\n",
    "graph[7] = [9]\n",
    "graph[9] = [4]\n",
    "graph[5] = [3]\n",
    "graph[3] = [8]\n",
    "graph[8] = [9]\n",
    "# graph[2] = [4]\n",
    "print(graph)\n",
    "\n",
    "# 地图线\n",
    "plt.figure(figsize=(5, 5))\n",
    "plt.title(\"Samples\")\n",
    "plt.scatter(x[:, 0], x[:, 1], alpha=0.5)\n",
    "\n",
    "for k, vs in graph.items():\n",
    "    for v in vs:\n",
    "        x1,y1 = x[k]\n",
    "        x2,y2 = x[v]\n",
    "        plt.plot([x1, x2], [y1, y2], 'r-', alpha=0.25)\n",
    "\n",
    "for i in range(len(x)):\n",
    "    x1, y1 = x[i]\n",
    "    plt.annotate(i, xy=(x1, y1), xytext=(x1+0.15, y1-0.1))\n",
    "\n",
    "plt.xlim(0, 8)\n",
    "plt.ylim(0, 8)\n",
    "plt.show()"
   ]
  },
  {
   "cell_type": "code",
   "execution_count": 3,
   "id": "fb25aeaf-e09e-4bf0-9004-6cd12dc8f610",
   "metadata": {},
   "outputs": [],
   "source": [
    "# 构建距离矩阵\n",
    "n = len(x)\n",
    "dis_map = np.zeros((n, n)) + np.inf\n",
    "for i in range(n):\n",
    "    dis_map[i][i] = 0\n",
    "\n",
    "# 各点之间的距离矩阵\n",
    "for k, vs in graph.items():\n",
    "    for v in vs:\n",
    "        x1,y1 = x[k]\n",
    "        x2,y2 = x[v]\n",
    "        dis = np.sqrt(np.power(x1-x2, 2) + np.power(y1-y2, 2))\n",
    "        dis_map[k, v] = dis_map[v][k] = dis  \n",
    "\n",
    "start = 0 # 起点\n",
    "nodes = [i for i in range(n)]\n",
    "paths = [start] # 已访问路径\n",
    "cands = [i for i in range(n) if i not in paths] # 未访问的路径\n",
    "visit = [False for i in range(n)] # 访问标记\n",
    "visit[start] = True\n",
    "disls = dis_map[start] # 起点到其余各点的距离\n",
    "lnkls = [[start, i] for i in range(n)]\n",
    "\n",
    "# print(f\"start = {start}\")\n",
    "# print(f\"nodes = {nodes}\")\n",
    "# print(f\"paths = {paths}\")\n",
    "# print(f\"cands = {cands}\")\n",
    "# print(f\"visit = {visit}\")\n",
    "# print(f\"disls = {disls}\")\n",
    "# print(f\"lnkls = {lnkls}\")\n",
    "\n",
    "def dijkstra():\n",
    "    while len(cands)>0:    \n",
    "        # 先从还未访问的节点集合cands中，【贪心】选一个当前可达到的最近节点k\n",
    "        k = None\n",
    "        dis = np.inf\n",
    "        for i in cands:\n",
    "            if disls[i] <= dis:\n",
    "                k = i \n",
    "                dis = disls[i] \n",
    "        paths.append(k) # 将这个节点k增加到已访问路径（当前已找到最优路径的节点）\n",
    "        cands.remove(k) # 将这个节点k从未访问的集合中剔除\n",
    "        visit[i] = True # 标记节点的访问状态（没什么用，可删除）\n",
    "        # 遍历cands的其他节点j，如果用k作为中介可以缩短(start,j)之间的距离，则用(start,k)+j的形式修改路径，并修改disls[j]的距离\n",
    "        for j in cands: \n",
    "            if dis_map[start][k] + dis_map[k][j] < disls[j]: #【动态规划】的转移矩阵\n",
    "                disls[j] = dis_map[start][k] + dis_map[k][j]  # 修改最短路径距离，需要用到邻接矩阵dis_map\n",
    "                lnkls[j] = lnkls[k] + [j]  # 修改路径，用k作为中介点，用(stark,k)+(j)连接到j\n",
    "    return \n",
    "\n",
    "dijkstra()"
   ]
  },
  {
   "cell_type": "code",
   "execution_count": 4,
   "id": "9d6e63c0-8312-438b-829e-91b1292ed2e8",
   "metadata": {},
   "outputs": [
    {
     "name": "stdout",
     "output_type": "stream",
     "text": [
      "([0, 0], 0.0)\n",
      "([0, 1], 1.4571179270728054)\n",
      "([0, 2], 2.3796749082696893)\n",
      "([0, 1, 5, 3], 6.311014886672594)\n",
      "([0, 1, 6, 7, 9, 4], 8.460042609983985)\n",
      "([0, 1, 5], 4.406218061407023)\n",
      "([0, 1, 6], 3.270471455366794)\n",
      "([0, 1, 6, 7], 4.964303581525024)\n",
      "([0, 1, 6, 7, 9, 8], 8.148873389325786)\n",
      "([0, 1, 6, 7, 9], 6.747488867292059)\n"
     ]
    },
    {
     "data": {
      "image/png": "[encoded data removed]",
      "text/plain": [
       "<Figure size 360x360 with 1 Axes>"
      ]
     },
     "metadata": {
      "needs_background": "light"
     },
     "output_type": "display_data"
    }
   ],
   "source": [
    "for i in zip(lnkls, disls):\n",
    "    print(i)\n",
    "\n",
    "# 地图线\n",
    "plt.figure(figsize=(5, 5))\n",
    "plt.title(\"Samples\")\n",
    "plt.scatter(x[:, 0], x[:, 1], alpha=0.5)\n",
    "\n",
    "for k, vs in graph.items():\n",
    "    for v in vs:\n",
    "        x1,y1 = x[k]\n",
    "        x2,y2 = x[v]\n",
    "        plt.plot([x1, x2], [y1, y2], 'r-', alpha=0.25)\n",
    "\n",
    "for i in range(len(x)):\n",
    "    x1, y1 = x[i]\n",
    "    plt.annotate(i, xy=(x1, y1), xytext=(x1+0.15, y1-0.1))\n",
    "\n",
    "plt.xlim(0, 8)\n",
    "plt.ylim(0, 8)\n",
    "plt.show()"
   ]
  }
 ],
 "metadata": {
  "kernelspec": {
   "display_name": "Python 3",
   "language": "python",
   "name": "python3"
  },
  "language_info": {
   "codemirror_mode": {
    "name": "ipython",
    "version": 3
   },
   "file_extension": ".py",
   "mimetype": "text/x-python",
   "name": "python",
   "nbconvert_exporter": "python",
   "pygments_lexer": "ipython3",
   "version": "3.8.8"
  }
 },
 "nbformat": 4,
 "nbformat_minor": 5
}
