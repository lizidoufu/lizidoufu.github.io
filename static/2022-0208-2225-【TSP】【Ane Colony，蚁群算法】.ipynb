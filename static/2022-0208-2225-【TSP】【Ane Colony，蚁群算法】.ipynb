{
 "cells": [
  {
   "cell_type": "code",
   "execution_count": 1,
   "id": "2a2ed845-ae47-4e10-87f5-96e9f52d33df",
   "metadata": {},
   "outputs": [],
   "source": [
    "import numpy as np\n",
    "import pandas as pd\n",
    "import matplotlib.pyplot as plt\n",
    "import warnings\n",
    "import copy\n",
    "warnings.simplefilter(\"ignore\")\n",
    "plt.rcParams['font.sans-serif'] = ['SimHei']   \n",
    "plt.rcParams['axes.unicode_minus'] = False "
   ]
  },
  {
   "cell_type": "code",
   "execution_count": 2,
   "id": "6fbbd67e-5689-4a04-9617-4188a1ad4b4a",
   "metadata": {
    "tags": []
   },
   "outputs": [
    {
     "data": {
      "image/png": "[encoded data removed]",
      "text/plain": [
       "<Figure size 360x360 with 1 Axes>"
      ]
     },
     "metadata": {
      "needs_background": "light"
     },
     "output_type": "display_data"
    }
   ],
   "source": [
    "np.random.seed(5213)\n",
    "x = np.random.rand(40, 2) * 5  + 1.5\n",
    "\n",
    "plt.figure(figsize=(5, 5))\n",
    "plt.title(\"Samples\")\n",
    "plt.scatter(x[:, 0], x[:, 1], alpha=0.5)\n",
    "plt.xlim(0, 8)\n",
    "plt.ylim(0, 8)\n",
    "plt.show()"
   ]
  },
  {
   "cell_type": "code",
   "execution_count": 3,
   "id": "d4fed807-031a-4711-a0fd-04afbabaf952",
   "metadata": {},
   "outputs": [],
   "source": [
    "class Ane(object):\n",
    "    \n",
    "    # 创建函数\n",
    "    def __init__(self, x, loops, name, points, start, prob):\n",
    "        self.x = x\n",
    "        self.loops = loops\n",
    "        self.v_name = name\n",
    "        self.v_start = start\n",
    "        self.v_loc_now = self.v_start\n",
    "        self.v_loc_next = None\n",
    "        self.v_points = points\n",
    "        self.v_prob = prob\n",
    "        self.v_paths = [self.v_start] \n",
    "        self.v_candidates = [i for i in range(self.v_points) if i != self.v_start] \n",
    "        self.v_distance_ls = list()\n",
    "        self.v_distance = None\n",
    "        self.v_info = 10.0\n",
    "        self.v_info_delta_ls = None\n",
    "        self.v_info_matrix = None\n",
    "        pass\n",
    "    \n",
    "  \n",
    "    # 选择方向\n",
    "    def f_direction(self):\n",
    "        # 90%的概率按照信息素浓度选择方向，10%的概率随机选择方向\n",
    "        if np.random.rand()>=self.v_prob:\n",
    "            loc_next = np.random.choice(self.v_candidates)\n",
    "            self.loc_next = loc_next\n",
    "            pass\n",
    "        else:\n",
    "            global df_info\n",
    "            ix = self.v_loc_now \n",
    "            iy = [i for i in self.v_candidates if i not in self.v_paths]\n",
    "            infos = df_info.iloc[[ix], iy]\n",
    "            locs = infos.columns.tolist()\n",
    "            probs = infos.values.tolist()[0]            \n",
    "            arg = np.array(probs).argmax()\n",
    "            self.loc_next = locs[arg]\n",
    "            pass\n",
    "        pass\n",
    "    \n",
    "    \n",
    "    # 前进一步\n",
    "    def f_move(self):\n",
    "        loc_next = self.loc_next\n",
    "        self.v_paths.append(loc_next)\n",
    "        self.v_candidates.remove(loc_next)\n",
    "        self.v_loc_now = loc_next\n",
    "        pass\n",
    "    \n",
    "    # 行走一圈\n",
    "    def f_circle(self):\n",
    "        while len(self.v_candidates)>0:\n",
    "            self.f_direction()\n",
    "            self.f_move()\n",
    "        self.loc_next = self.v_start\n",
    "        self.v_paths.append(self.loc_next)\n",
    "        self.v_loc_now = self.loc_next\n",
    "        pass\n",
    "    \n",
    "    \n",
    "    # 计算路径行走的距离\n",
    "    def f_distance(self):\n",
    "        distance = 0\n",
    "        self.v_distance_ls = list()\n",
    "        for i in range(len(self.v_paths)-1):\n",
    "            x1, x2 = x[self.v_paths[i]], x[self.v_paths[i+1]]\n",
    "            dis = np.sqrt(np.sum((x1 - x2)**2))\n",
    "            distance += dis\n",
    "            self.v_distance_ls.append(dis)\n",
    "        self.v_distance = distance\n",
    "        pass\n",
    "    \n",
    "    \n",
    "    # 留下的信息素浓度\n",
    "    def f_info_delta(self):\n",
    "        self.v_info_delta_ls = self.v_info / np.array(self.v_distance_ls)**2\n",
    "        pass\n",
    "    \n",
    "    # 更新信息素矩阵\n",
    "    def f_update_info_matrix(self):\n",
    "        global df_info\n",
    "        self.v_info_matrix = pd.DataFrame(np.zeros(df_info.shape))\n",
    "        for i in range(len(self.v_paths)-1):\n",
    "            loc1, loc2 = self.v_paths[i], self.v_paths[i+1]\n",
    "            self.v_info_matrix.iloc[loc1, loc2] += self.v_info_delta_ls[i]\n",
    "            pass\n",
    "        pass\n",
    "    \n",
    "    # 调用\n",
    "    def run(self):\n",
    "        self.f_circle()\n",
    "        self.f_distance()\n",
    "        self.f_info_delta()\n",
    "        self.f_update_info_matrix()\n",
    "        pass\n",
    "    \n",
    "    def run_loops(self):\n",
    "        x = self.x\n",
    "        \n",
    "        def f_prob_change(x, nums):\n",
    "            # return np.power(np.exp(x*1.9-nums), 0.01)\n",
    "            return (x / nums)**2\n",
    "\n",
    "        # 节点之间的信息素矩阵\n",
    "        df_info = np.zeros((len(x), len(x))) + 0.001\n",
    "        for i in range(len(x)):\n",
    "            df_info[i, i] = 0\n",
    "        df_info = pd.DataFrame(df_info)\n",
    "\n",
    "        # 最优结果保存\n",
    "        best_distance = np.inf\n",
    "        best_paths = None\n",
    "        best_id = None\n",
    "\n",
    "        # 超参数设置\n",
    "        loops = self.loops\n",
    "        # loops = 2000 + 1 # 蚂蚁的批次\n",
    "        # loops = len(x)**2 * 4 + 1\n",
    "        nums = 8 # 每批蚂蚁的数量\n",
    "        p_min = 0.9 # 按照信息素选择方向的概率 p\n",
    "        info_rate_old = 0.7 # 每次迭代，旧信息的保留百分比\n",
    "        info_rate_new = 0.3 # 每次迭代，新信息的保留百分比\n",
    "\n",
    "        # 迭代开始\n",
    "        for loop in range(loops):\n",
    "            p = min(p_min, f_prob_change(loop, loops)) # 按照信息素选择方向的概率会越来越大\n",
    "            ane = Ane(name=\"ane-1\", points=len(x), start=0, prob=p)\n",
    "            ane.run()\n",
    "            df_tmp = copy.copy(ane.v_info_matrix)\n",
    "            for i in range(nums):\n",
    "                ane = Ane(name=\"ane-1\", points=len(x), start=0, prob=p)\n",
    "                ane.run()\n",
    "                df_tmp += ane.v_info_matrix\n",
    "                if ane.v_distance <= best_distance:\n",
    "                    best_distance = ane.v_distance\n",
    "                    best_paths= ane.v_paths\n",
    "                    best_id = (loop, i)\n",
    "            df_tmp = df_tmp/nums\n",
    "            df_info = info_rate_old * df_info + info_rate_new * df_tmp\n",
    "            if loop % 100 == 0:\n",
    "                # print(f\"loop = {loop:>4d} finished! p = {p:>4f}\")\n",
    "                pass\n",
    "        return \n",
    "    pass"
   ]
  },
  {
   "cell_type": "code",
   "execution_count": 4,
   "id": "4bfc81c7-a667-4458-9844-d6cec6153310",
   "metadata": {
    "tags": []
   },
   "outputs": [
    {
     "name": "stdout",
     "output_type": "stream",
     "text": [
      "loop =    0 finished! p = 0.000000\n",
      "loop =  100 finished! p = 0.002498\n",
      "loop =  200 finished! p = 0.009990\n",
      "loop =  300 finished! p = 0.022478\n",
      "loop =  400 finished! p = 0.039960\n",
      "loop =  500 finished! p = 0.062438\n",
      "loop =  600 finished! p = 0.089910\n",
      "loop =  700 finished! p = 0.122378\n",
      "loop =  800 finished! p = 0.159840\n",
      "loop =  900 finished! p = 0.202298\n",
      "loop = 1000 finished! p = 0.249750\n",
      "loop = 1100 finished! p = 0.302198\n",
      "loop = 1200 finished! p = 0.359640\n",
      "loop = 1300 finished! p = 0.422078\n",
      "loop = 1400 finished! p = 0.489510\n",
      "loop = 1500 finished! p = 0.561938\n",
      "loop = 1600 finished! p = 0.639360\n",
      "loop = 1700 finished! p = 0.721778\n",
      "loop = 1800 finished! p = 0.809191\n",
      "loop = 1900 finished! p = 0.900000\n",
      "loop = 2000 finished! p = 0.900000\n",
      "Wall time: 2min 39s\n"
     ]
    }
   ],
   "source": [
    "%%time\n",
    "\n",
    "def f_prob_change(x, nums):\n",
    "    # return np.power(np.exp(x*1.9-nums), 0.01)\n",
    "    return (x / nums)**2\n",
    "\n",
    "# 节点之间的信息素矩阵\n",
    "df_info = np.zeros((len(x), len(x))) + 0.001\n",
    "for i in range(len(x)):\n",
    "    df_info[i, i] = 0\n",
    "df_info = pd.DataFrame(df_info)\n",
    "\n",
    "# 最优结果保存\n",
    "best_distance = np.inf\n",
    "best_paths = None\n",
    "best_id = None\n",
    "\n",
    "# 超参数设置\n",
    "loops = 2000 + 1 # 蚂蚁的批次\n",
    "# loops = len(x)**2 * 4 + 1\n",
    "nums = 8 # 每批蚂蚁的数量\n",
    "p_min = 0.9 # 按照信息素选择方向的概率 p\n",
    "info_rate_old = 0.7 # 每次迭代，旧信息的保留百分比\n",
    "info_rate_new = 0.3 # 每次迭代，新信息的保留百分比\n",
    "\n",
    "# 迭代开始\n",
    "for loop in range(loops):\n",
    "    p = min(p_min, f_prob_change(loop, loops)) # 按照信息素选择方向的概率会越来越大\n",
    "    ane = Ane(name=\"ane-1\", points=len(x), start=0, prob=p)\n",
    "    ane.run()\n",
    "    df_tmp = copy.copy(ane.v_info_matrix)\n",
    "    for i in range(nums):\n",
    "        ane = Ane(name=\"ane-1\", points=len(x), start=0, prob=p)\n",
    "        ane.run()\n",
    "        df_tmp += ane.v_info_matrix\n",
    "        if ane.v_distance <= best_distance:\n",
    "            best_distance = ane.v_distance\n",
    "            best_paths= ane.v_paths\n",
    "            best_id = (loop, i)\n",
    "    df_tmp = df_tmp/nums\n",
    "    df_info = info_rate_old * df_info + info_rate_new * df_tmp\n",
    "    if loop % 100 == 0:\n",
    "        print(f\"loop = {loop:>4d} finished! p = {p:>4f}\")\n",
    "\n",
    "# 转成概率分布\n",
    "df_rate = df_info / df_info.sum(axis=0)"
   ]
  },
  {
   "cell_type": "code",
   "execution_count": 5,
   "id": "f031be52-b99a-431d-ad12-2da679977e13",
   "metadata": {},
   "outputs": [],
   "source": [
    "# df_info.applymap(lambda x: np.round(x, 4))"
   ]
  },
  {
   "cell_type": "code",
   "execution_count": 6,
   "id": "b3bbee83-f31c-44cc-b6a0-2b97aead1542",
   "metadata": {},
   "outputs": [],
   "source": [
    "# df_rate.applymap(lambda x: np.round(x, 4))"
   ]
  },
  {
   "cell_type": "code",
   "execution_count": 7,
   "id": "6fad47da-5f2c-43e9-9fd6-5cf86cc06e53",
   "metadata": {},
   "outputs": [
    {
     "data": {
      "image/png": "[encoded data removed]",
      "text/plain": [
       "<Figure size 360x360 with 1 Axes>"
      ]
     },
     "metadata": {
      "needs_background": "light"
     },
     "output_type": "display_data"
    },
    {
     "name": "stdout",
     "output_type": "stream",
     "text": [
      "best_id = (1875, 3)\n",
      "best_paths = 0 -> 35 -> 37 -> 13 -> 26 -> 14 -> 15 -> 23 -> 2 -> 27 -> 22 -> 36 -> 21 -> 9 -> 5 -> 16 -> 19 -> 29 -> 25 -> 24 -> 32 -> 7 -> 6 -> 17 -> 4 -> 18 -> 34 -> 1 -> 20 -> 39 -> 31 -> 33 -> 12 -> 3 -> 8 -> 28 -> 10 -> 38 -> 11 -> 30 -> 0\n",
      "best_distance = 27.612858973375836\n"
     ]
    }
   ],
   "source": [
    "plt.figure(figsize=(5, 5))\n",
    "plt.xlim(0, 8)\n",
    "plt.ylim(0, 8)\n",
    "plt.scatter(x[:, 0], x[:, 1], alpha=0.5)\n",
    "plt.scatter(x[0][0], x[0][1], c=\"blue\", edgecolors=\"black\", alpha=0.75, s=100)\n",
    "\n",
    "for i in range(len(best_paths)-1):\n",
    "    loc1, loc2 = best_paths[i], best_paths[i+1]\n",
    "    x1, y1 = x[loc1]\n",
    "    x2, y2 = x[loc2]\n",
    "    dx = x2 - x1\n",
    "    dy = y2 - y1\n",
    "    plt.quiver(x1, y1, dx, dy, angles='xy', scale=1, scale_units='xy', color=\"red\", alpha=0.5)\n",
    "\n",
    "for i in range(len(x)):\n",
    "    x1, y1 = x[i]\n",
    "    plt.annotate(i, xy=(x1, y1), xytext=(x1+0.15, y1))\n",
    "plt.show()\n",
    "    \n",
    "print(f\"best_id = {best_id}\")\n",
    "print(f\"best_paths = {' -> '.join([str(i) for i in best_paths])}\")\n",
    "print(f\"best_distance = {best_distance}\")"
   ]
  },
  {
   "cell_type": "markdown",
   "id": "c89b06b2-e021-41ff-b1a2-e0bec3c6cb57",
   "metadata": {},
   "source": [
    "### 结果\n",
    "\n",
    "集合大的情况下，难以达到最优结果，次优也能接受"
   ]
  }
 ],
 "metadata": {
  "kernelspec": {
   "display_name": "Python 3",
   "language": "python",
   "name": "python3"
  },
  "language_info": {
   "codemirror_mode": {
    "name": "ipython",
    "version": 3
   },
   "file_extension": ".py",
   "mimetype": "text/x-python",
   "name": "python",
   "nbconvert_exporter": "python",
   "pygments_lexer": "ipython3",
   "version": "3.8.8"
  }
 },
 "nbformat": 4,
 "nbformat_minor": 5
}
