{
 "cells": [
  {
   "cell_type": "code",
   "execution_count": 10,
   "id": "d77bcb2d-5f42-45c6-95e9-8ccb9d33c553",
   "metadata": {},
   "outputs": [
    {
     "name": "stdout",
     "output_type": "stream",
     "text": [
      "0 1\n",
      "1 1\n",
      "2 2\n",
      "3 3\n",
      "4 5\n",
      "5 8\n",
      "6 13\n",
      "7 21\n",
      "8 34\n",
      "9 55\n"
     ]
    }
   ],
   "source": [
    "# 动态规划：创建一张全局的表格，通过转移函数来获取需要运算的中间值，再进行计算\n",
    "# 不需要递归调用，也不需要递推，速度很快\n",
    "# 难点在于转移函数（特别是高阶或者复杂的转移）\n",
    "\n",
    "lst_fibs = [0]*101\n",
    "lst_fibs[0] = 1\n",
    "lst_fibs[1] = 1\n",
    "for i in range(2, 101):\n",
    "    lst_fibs[i] = lst_fibs[i-1] + lst_fibs[i-2]\n",
    "\n",
    "def fibonacci(n):\n",
    "    if n<2:\n",
    "        return lst_fibs[n]\n",
    "    # 状态转移矩阵\n",
    "    res = lst_fibs[n-1] + lst_fibs[n-2]\n",
    "    return res\n",
    "        \n",
    "for i in range(10):\n",
    "    print(i, fibonacci(i))"
   ]
  },
  {
   "cell_type": "code",
   "execution_count": null,
   "id": "f51d9756-6e71-4353-b40d-c9f49602182b",
   "metadata": {},
   "outputs": [],
   "source": []
  }
 ],
 "metadata": {
  "kernelspec": {
   "display_name": "Python 3",
   "language": "python",
   "name": "python3"
  },
  "language_info": {
   "codemirror_mode": {
    "name": "ipython",
    "version": 3
   },
   "file_extension": ".py",
   "mimetype": "text/x-python",
   "name": "python",
   "nbconvert_exporter": "python",
   "pygments_lexer": "ipython3",
   "version": "3.8.8"
  }
 },
 "nbformat": 4,
 "nbformat_minor": 5
}
