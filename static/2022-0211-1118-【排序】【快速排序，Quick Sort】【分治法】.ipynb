{
 "cells": [
  {
   "cell_type": "code",
   "execution_count": 3,
   "id": "9f96725a-6139-49ca-a3c5-63188f3affb1",
   "metadata": {},
   "outputs": [
    {
     "name": "stdout",
     "output_type": "stream",
     "text": [
      "[2 9 7 1 8 6 3 4 5 0]\n",
      "[0, 1, 2, 3, 4, 5, 6, 7, 8, 9]\n"
     ]
    }
   ],
   "source": [
    "import numpy as np\n",
    "from copy import copy\n",
    "\n",
    "# 创建数组arr，并将其顺序打乱\n",
    "arr = np.arange(0, 10, 1)\n",
    "np.random.shuffle(arr)\n",
    "print(arr)\n",
    "\n",
    "# 分治法 ===========================================\n",
    "# 将大规模的问题分解为小规模的问题，最后从每个小问题的解中组合，得到最终答案\n",
    "\n",
    "# 分块\n",
    "def partition(arr):\n",
    "    pivot, others = arr[0], arr[1:] # 将传入的列表ls的第0个元素作为基准，其他元素按照这个基准分成left和right两个模块\n",
    "    left = [i for i in others if i <= pivot]\n",
    "    right = [i for i in others if i > pivot]\n",
    "    return left, pivot, right\n",
    "\n",
    "# 快速排序\n",
    "def quicksort(arr):\n",
    "    if len(arr) <= 1: # 当传入的列表arr只有1个元素的时候，不需要继续递归，返回该列表即可\n",
    "        return arr\n",
    "    left, pivot, right = partition(arr)  # 将列表arr进行分块，得到（左列表，基准值，右列表）\n",
    "    return quicksort(left)+ [pivot] + quicksort(right)  # 将子问题的答案，整理得到原问题的答案\n",
    "\n",
    "arr2 = quicksort(arr)\n",
    "print(arr2)"
   ]
  }
 ],
 "metadata": {
  "kernelspec": {
   "display_name": "Python 3",
   "language": "python",
   "name": "python3"
  },
  "language_info": {
   "codemirror_mode": {
    "name": "ipython",
    "version": 3
   },
   "file_extension": ".py",
   "mimetype": "text/x-python",
   "name": "python",
   "nbconvert_exporter": "python",
   "pygments_lexer": "ipython3",
   "version": "3.8.8"
  }
 },
 "nbformat": 4,
 "nbformat_minor": 5
}
