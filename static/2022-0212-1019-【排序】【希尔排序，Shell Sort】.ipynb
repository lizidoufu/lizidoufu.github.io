{
 "cells": [
  {
   "cell_type": "code",
   "execution_count": 30,
   "id": "0ffa894a-cfff-4da1-885e-13270086d6a2",
   "metadata": {},
   "outputs": [
    {
     "name": "stdout",
     "output_type": "stream",
     "text": [
      "[5, 3, 9, 0, 2, 1, 4, 8, 6, 7]\n",
      "[0, 1, 2, 3, 4, 5, 6, 7, 8, 9]\n"
     ]
    }
   ],
   "source": [
    "# https://www.cnblogs.com/qlshine/p/6052223.html\n",
    "\n",
    "import numpy as np\n",
    "from copy import copy\n",
    "\n",
    "# 创建数组arr，并将其顺序打乱\n",
    "arr = np.arange(0, 10, 1)\n",
    "np.random.shuffle(arr)\n",
    "arr = arr.tolist()\n",
    "print(arr)\n",
    "\n",
    "# 希尔排序\n",
    "def shell_sort(arr):\n",
    "    # 设定步长\n",
    "    step = len(arr)//2\n",
    "    while step > 0:\n",
    "        for i in range(step, len(arr)): # 不用range(step)是最后1位可能会被跳过\n",
    "            # 类似插入排序, 当前值与指定步长之前的值比较, 符合条件则交换位置\n",
    "            while i >= step and arr[i-step] > arr[i]: # con1:i-step不会变成负数；con2:临近才会发生交换\n",
    "                arr[i], arr[i-step] = arr[i-step], arr[i] # 每次值处理相邻位置上的两个元素，所以arr_sub不是有序的，但是arr_items4在arr_items2的基础上变化却是有序的\n",
    "                i -= step\n",
    "        step = step//2\n",
    "    return \n",
    "\n",
    "shell_sort(arr)\n",
    "print(arr)"
   ]
  },
  {
   "cell_type": "markdown",
   "id": "c30560b2-0127-4a25-b68d-fb80db792407",
   "metadata": {},
   "source": [
    "### 从其他地方引用一张排序图\n",
    "\n",
    "![img](https://www.runoob.com/wp-content/uploads/2019/03/Sorting_shellsort_anim.gif)"
   ]
  },
  {
   "cell_type": "code",
   "execution_count": null,
   "id": "f8e4a634-344b-4d64-8562-cf17c4d86c61",
   "metadata": {},
   "outputs": [],
   "source": []
  }
 ],
 "metadata": {
  "kernelspec": {
   "display_name": "Python 3",
   "language": "python",
   "name": "python3"
  },
  "language_info": {
   "codemirror_mode": {
    "name": "ipython",
    "version": 3
   },
   "file_extension": ".py",
   "mimetype": "text/x-python",
   "name": "python",
   "nbconvert_exporter": "python",
   "pygments_lexer": "ipython3",
   "version": "3.8.8"
  }
 },
 "nbformat": 4,
 "nbformat_minor": 5
}
