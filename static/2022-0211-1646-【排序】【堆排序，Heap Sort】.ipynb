{
 "cells": [
  {
   "cell_type": "code",
   "execution_count": 6,
   "id": "ddabf8fc-e775-4d93-acd4-8eff6fcf292a",
   "metadata": {},
   "outputs": [
    {
     "name": "stdout",
     "output_type": "stream",
     "text": [
      "[9 0 8 6 2 5 7 3 1 4]\n",
      "[0 1 2 3 4 5 6 7 8 9]\n"
     ]
    }
   ],
   "source": [
    "# ————————————————\n",
    "# 版权声明：本文为CSDN博主「june_francis」的原创文章，遵循CC 4.0 BY-SA版权协议，转载请附上原文出处链接及本声明。\n",
    "# 原文链接：https://blog.csdn.net/june_young_fan/article/details/82014081\n",
    "\n",
    "\n",
    "import numpy as np\n",
    "from copy import copy\n",
    "\n",
    "# 创建数组arr，并将其顺序打乱\n",
    "arr = np.arange(0, 10, 1)\n",
    "np.random.shuffle(arr)\n",
    "print(arr)\n",
    "\n",
    "# 调整列表中的元素并保证以root为根的堆是一个大根堆\n",
    "def max_heapify(heap, heapSize, root):  \n",
    "    # heap列表；heapsize列表长度；root父节点（非叶节点）\n",
    "    left = 2*root + 1  # 左子节点\n",
    "    right = left + 1   # 右子节点\n",
    "    larger = root      # 父节点\n",
    "    if left < heapSize and heap[larger] < heap[left]:\n",
    "        larger = left  # 如果左子节点在范围内，并且子节点的值大于父节点的值，将左子节点的索引保存到larger\n",
    "    if right < heapSize and heap[larger] < heap[right]:\n",
    "        larger = right\n",
    "    if larger != root:  # 如果root不是最大值节点，则交换root和larget的元素值\n",
    "        heap[larger], heap[root] = heap[root], heap[larger] # 交换此时的最大值到root节点\n",
    "        # 【递归】 ****************\n",
    "        max_heapify(heap, heapSize, larger) # 递归的对子树做调整，直到 heap.root.value 是最大值\n",
    "    return\n",
    "\n",
    "# 构造一个堆，将堆中所有数据重新排序\n",
    "def build_max_heap(heap):  \n",
    "    heapSize = len(heap)\n",
    "    for i in range((heapSize -2)//2,-1,-1):  # 自底向上建堆，遍历所有最底层的叶节点\n",
    "        max_heapify(heap, heapSize, i)\n",
    "    return\n",
    "\n",
    "# 堆排序 ======================================================================\n",
    "def heap_sort(heap):  \n",
    "    build_max_heap(heap)  \n",
    "    for i in range(len(heap)-1, -1, -1): # 将根节点取出与最后一位做对调，对前面len-1个节点继续进行堆调整过程。\n",
    "        heap[0], heap[i] = heap[i], heap[0] # 调整后列表的第一个元素就是这个列表中最大的元素，将其与最后一个元素交换\n",
    "        max_heapify(heap, i, 0) # 然后将剩余的列表再递归的调整为最大堆\n",
    "    return\n",
    "\n",
    "\n",
    "\"\"\"\n",
    "max_heapify：\n",
    "    将一个非叶节点的root，和它的两个子节点left，right，转换成大根堆子树；\n",
    "    通过larger递归，变化过的节点会沿着路径向下传递，调整子树成为大根堆，直到没有变化；\n",
    "build_max_heap：\n",
    "    自右向左，自底向上，遍历所有非叶节点，调用max_heapify递归，将整个heap堆转换成大根堆\n",
    "heap_sort：\n",
    "    先调用build_max_heap建立一个大根堆，将最大值的root调到heap的末尾，\n",
    "    因为末尾的元素被调至root，[0, len-1]已经不是大根堆，用max_heapify递归，将root的元素往下调整，将新的max调至root\n",
    "    遍历len-1次，heap则被调整成为顺序大小的堆结构；\n",
    "\"\"\"\n",
    "heap_sort(arr)\n",
    "print(arr)"
   ]
  },
  {
   "cell_type": "code",
   "execution_count": null,
   "id": "11bfbbde-ab95-4e93-bd74-74faf4cbbd94",
   "metadata": {},
   "outputs": [],
   "source": []
  }
 ],
 "metadata": {
  "kernelspec": {
   "display_name": "Python 3",
   "language": "python",
   "name": "python3"
  },
  "language_info": {
   "codemirror_mode": {
    "name": "ipython",
    "version": 3
   },
   "file_extension": ".py",
   "mimetype": "text/x-python",
   "name": "python",
   "nbconvert_exporter": "python",
   "pygments_lexer": "ipython3",
   "version": "3.8.8"
  }
 },
 "nbformat": 4,
 "nbformat_minor": 5
}
