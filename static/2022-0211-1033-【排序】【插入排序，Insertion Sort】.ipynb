{
 "cells": [
  {
   "cell_type": "code",
   "execution_count": 15,
   "id": "b04ef599-d653-4c18-b79d-1b6d58cce68f",
   "metadata": {},
   "outputs": [
    {
     "name": "stdout",
     "output_type": "stream",
     "text": [
      "[6 9 3 7 1 4 0 8 2 5]\n",
      "[0 1 2 3 4 5 6 7 8 9]\n"
     ]
    }
   ],
   "source": [
    "import numpy as np\n",
    "from copy import copy\n",
    "\n",
    "# 创建数组arr，并将其顺序打乱\n",
    "arr = np.arange(0, 10, 1)\n",
    "np.random.shuffle(arr)\n",
    "print(arr)\n",
    "\n",
    "# 插入排序 ==================================================================\n",
    "nums = len(arr)\n",
    "for i in range(1, nums):\n",
    "    for j in range(i, 0, -1):  # 将j位置的元素，逐个与(i, 0, -1)位置上的元素比较\n",
    "        if arr[j]<arr[j-1]: # 如果j的数值较小，则往前面冒进（与j-1位置上的元素对换）\n",
    "            arr[j], arr[j-1] = arr[j-1], arr[j]\n",
    "        else: # 只要不发声交换，则可以提前结束（因为(0,i)位置的元素其实已经是排序好的)\n",
    "            break\n",
    "print(arr)"
   ]
  },
  {
   "cell_type": "code",
   "execution_count": null,
   "id": "256aece2-ef9f-4038-aa87-911be3758e30",
   "metadata": {},
   "outputs": [],
   "source": []
  }
 ],
 "metadata": {
  "kernelspec": {
   "display_name": "Python 3",
   "language": "python",
   "name": "python3"
  },
  "language_info": {
   "codemirror_mode": {
    "name": "ipython",
    "version": 3
   },
   "file_extension": ".py",
   "mimetype": "text/x-python",
   "name": "python",
   "nbconvert_exporter": "python",
   "pygments_lexer": "ipython3",
   "version": "3.8.8"
  }
 },
 "nbformat": 4,
 "nbformat_minor": 5
}
