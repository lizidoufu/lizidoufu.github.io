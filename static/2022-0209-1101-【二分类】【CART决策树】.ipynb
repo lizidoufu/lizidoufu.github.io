{
 "cells": [
  {
   "cell_type": "code",
   "execution_count": 1,
   "id": "1fab5585-d0a2-4473-9da4-187a910db9cf",
   "metadata": {},
   "outputs": [],
   "source": [
    "import numpy as np\n",
    "import pandas as pd\n",
    "import matplotlib.pyplot as plt\n",
    "import warnings\n",
    "import copy\n",
    "warnings.simplefilter(\"ignore\")\n",
    "plt.rcParams['font.sans-serif'] = ['SimHei']   #设置简黑字体\n",
    "plt.rcParams['axes.unicode_minus'] = False # 解决‘-’bug"
   ]
  },
  {
   "cell_type": "code",
   "execution_count": 2,
   "id": "dbf605c9-be78-4aeb-a3ff-5ce82b7ec3d1",
   "metadata": {},
   "outputs": [
    {
     "data": {
      "image/png": "[encoded data removed]",
      "text/plain": [
       "<Figure size 288x288 with 1 Axes>"
      ]
     },
     "metadata": {
      "needs_background": "light"
     },
     "output_type": "display_data"
    }
   ],
   "source": [
    "np.random.seed(4342)\n",
    "\n",
    "x1 = np.random.rand(10, 2) * 4 + 2 \n",
    "y1 = [0] * len(x1)\n",
    "\n",
    "x2 = np.random.rand(10, 2) * 4 + 4\n",
    "y2 = [1] * len(x2)\n",
    "\n",
    "xt = np.array([\n",
    "    [1, 4],\n",
    "    [0.5, 4],\n",
    "    [4, 6],\n",
    "])\n",
    "yt = np.array([1, 0, 1])\n",
    "\n",
    "x = np.concatenate([x1, x2, xt], axis=0)\n",
    "y = np.concatenate([y1, y2, yt])\n",
    "\n",
    "\n",
    "plt.figure(figsize=(4, 4))\n",
    "plt.title(\"Samples\")\n",
    "plt.scatter(x[:, 0], x[:, 1], c=y, cmap=\"bwr\", alpha=0.5)\n",
    "plt.xlim(0, 10)\n",
    "plt.ylim(0, 10)\n",
    "plt.show()"
   ]
  },
  {
   "cell_type": "markdown",
   "id": "e40c5342-ab5a-4114-81dd-ef2fed9c74f4",
   "metadata": {},
   "source": [
    "# 构建决策树"
   ]
  },
  {
   "cell_type": "code",
   "execution_count": 3,
   "id": "22aa4579-bc09-4f5d-9d58-a2832d7b9091",
   "metadata": {
    "tags": []
   },
   "outputs": [],
   "source": [
    "class Node(object):\n",
    "    def __init__(self, pX, pY, pName, pLevel):\n",
    "        self.samples = pX\n",
    "        self.label = pY\n",
    "        self.name = pName \n",
    "        self.level = pLevel\n",
    "        self.gini = None\n",
    "        self.getGini()\n",
    "        self.is_leaf = False \n",
    "        self.getIsLeaf()\n",
    "        self.split_c = None \n",
    "        self.split_t = None \n",
    "        self.split_children = None \n",
    "        self.split_child_left = None \n",
    "        self.split_child_right = None \n",
    "        self.split_gini_index = None \n",
    "        pass\n",
    "    \n",
    "    def getNodeShow(self):\n",
    "        print(f\"name={self.name}, level={self.level}, samples={len(self.samples)}, gini={self.gini}, is_leaf = {self.is_leaf}\")\n",
    "        print(f\"--> split_c={self.split_c}, split_t={self.split_t}, split_gini_index={self.split_gini_index}\")\n",
    "        pass\n",
    "    \n",
    "    def getIsLeaf(self):\n",
    "        if self.gini == 0 or len(self.label) <=1:\n",
    "            self.is_leaf = True\n",
    "    \n",
    "    def getGini(self):\n",
    "        counts = len(self.label)\n",
    "        tmp_dict = dict()\n",
    "        for i in self.label:\n",
    "            if i in tmp_dict.keys():\n",
    "                tmp_dict[i] += 1\n",
    "            else:\n",
    "                tmp_dict[i] = 1\n",
    "        tmp_value = np.array([float(i) for i in tmp_dict.values()])\n",
    "        tmp_p = tmp_value / counts\n",
    "        tmp_p2 = tmp_p ** 2\n",
    "        tmp_gini = 1 - np.sum(tmp_p2)\n",
    "        self.gini = tmp_gini\n",
    "        \n",
    "    def split(self):\n",
    "        \n",
    "        if self.is_leaf:\n",
    "            return \n",
    "        \n",
    "        cols = range(self.samples.shape[1])\n",
    "        # print(cols)\n",
    "        \n",
    "        # 最佳分裂信息（特征、阈值、左子集、右子集、gini系数减少）\n",
    "        best_gini_index = 100.0\n",
    "        best_c = None \n",
    "        best_t = None \n",
    "        best_left_child = None \n",
    "        best_right_child = None \n",
    "        \n",
    "        # 遍历特征\n",
    "        for c in cols:\n",
    "            tmp_feature = copy.copy(self.samples[:, c])\n",
    "            tmp_feature.sort()\n",
    "            \n",
    "            # 生成候选分裂节点集合\n",
    "            tmp_condicate = [tmp_feature[0] - 0.5]\n",
    "            for i in range(len(tmp_feature)-1):\n",
    "                if tmp_feature[i] != tmp_feature[i+1]:\n",
    "                    tmp_con = (tmp_feature[i] + tmp_feature[i+1])/2\n",
    "                    tmp_condicate.append(tmp_con)\n",
    "            tmp_condicate.append(tmp_feature[-1] + 0.5)\n",
    "            \n",
    "            # 分解样本集\n",
    "            tmp_samples = copy.copy(self.samples[:, c])\n",
    "\n",
    "            for s in tmp_condicate:\n",
    "                tmp_label = list()\n",
    "                \n",
    "                tmp_nodes_left_x = list()\n",
    "                tmp_nodes_left_y = list()\n",
    "                tmp_nodes_left_samples = 0 \n",
    "\n",
    "                tmp_nodes_right_x = list()\n",
    "                tmp_nodes_right_y = list()\n",
    "                tmp_nodes_right_samples = 0\n",
    "                \n",
    "                for idx, value in enumerate(tmp_samples):\n",
    "                    if value <= s:\n",
    "                        tmp_label.append(0)\n",
    "                        tmp_nodes_left_x.append(self.samples[idx])\n",
    "                        tmp_nodes_left_y.append(self.label[idx])\n",
    "                        tmp_nodes_left_samples += 1\n",
    "                    else:\n",
    "                        tmp_label.append(1) \n",
    "                        tmp_nodes_right_x.append(self.samples[idx])\n",
    "                        tmp_nodes_right_y.append(self.label[idx])\n",
    "                        tmp_nodes_right_samples += 1\n",
    "             \n",
    "                tmp_nodes_left_x = np.array(tmp_nodes_left_x)\n",
    "                tmp_nodes_left_y = np.array(tmp_nodes_left_y)\n",
    "                tmp_nodes_right_x = np.array(tmp_nodes_right_x)\n",
    "                tmp_nodes_right_y = np.array(tmp_nodes_right_y)\n",
    "            \n",
    "                tmp_node_left = Node(tmp_nodes_left_x, tmp_nodes_left_y, self.name+'-0', self.level+1)\n",
    "                tmp_node_right = Node(tmp_nodes_right_x, tmp_nodes_right_y, self.name+'-1', self.level+1)\n",
    "                \n",
    "                \n",
    "                # 子集的gini系数减少情况\n",
    "                tmp_nums = tmp_nodes_left_samples + tmp_nodes_right_samples\n",
    "                tmp_rate_left= tmp_nodes_left_samples / tmp_nums\n",
    "                tmp_rate_right = tmp_nodes_right_samples / tmp_nums\n",
    "                \n",
    "                gini_index = tmp_rate_left * tmp_node_left.gini + tmp_rate_right * tmp_node_right.gini \n",
    "\n",
    "                if gini_index <= best_gini_index:\n",
    "                    best_gini_index = gini_index\n",
    "                    best_c = c \n",
    "                    best_t = s \n",
    "                    best_left_child = tmp_node_left\n",
    "                    best_right_child = tmp_node_right\n",
    "\n",
    "                pass\n",
    "            \n",
    "        self.split_c = best_c \n",
    "        self.split_t = best_t \n",
    "        self.split_children = [best_left_child, best_right_child]\n",
    "        self.split_child_left = best_left_child\n",
    "        self.split_child_right = best_right_child\n",
    "        self.split_gini_index = best_gini_index  \n",
    "        \n",
    "    pass\n",
    "    \n",
    "\n",
    "\n",
    "# node_root = Node(x, y, \"root\", 0)\n",
    "# print(node_root.is_leaf)\n",
    "# node_root.getNodeShow()\n",
    "# node_root.split()\n",
    "# print(node_root.split_c)\n",
    "# print(node_root.split_t)\n",
    "# print(node_root.split_gini_index)\n",
    "# print(node_root.split_children)\n",
    "# print(node_root.split_child_left)\n",
    "# print(node_root.split_child_right)\n",
    "# node_root.split_child_left.getNodeShow()\n",
    "# node_root.split_child_right.getNodeShow()"
   ]
  },
  {
   "cell_type": "markdown",
   "id": "f20d29fd-7bdf-4487-a581-2ca9268c49d9",
   "metadata": {},
   "source": [
    "# 广度优先节点分裂"
   ]
  },
  {
   "cell_type": "code",
   "execution_count": 4,
   "id": "0af34b48-e14b-4d75-9178-89ede2a00231",
   "metadata": {},
   "outputs": [
    {
     "name": "stdout",
     "output_type": "stream",
     "text": [
      "root\n",
      "--> root-0, is_leaf = False, type = <class '__main__.Node'>\n",
      "-----> root-0 append...\n",
      "--> root-1, is_leaf = True, type = <class '__main__.Node'>\n",
      "root-0\n",
      "--> root-0-0, is_leaf = False, type = <class '__main__.Node'>\n",
      "-----> root-0-0 append...\n",
      "--> root-0-1, is_leaf = False, type = <class '__main__.Node'>\n",
      "-----> root-0-1 append...\n",
      "root-0-0\n",
      "--> root-0-0-0, is_leaf = False, type = <class '__main__.Node'>\n",
      "-----> root-0-0-0 append...\n",
      "--> root-0-0-1, is_leaf = True, type = <class '__main__.Node'>\n",
      "root-0-1\n",
      "--> root-0-1-0, is_leaf = True, type = <class '__main__.Node'>\n",
      "--> root-0-1-1, is_leaf = True, type = <class '__main__.Node'>\n",
      "root-0-0-0\n",
      "--> root-0-0-0-0, is_leaf = True, type = <class '__main__.Node'>\n",
      "--> root-0-0-0-1, is_leaf = True, type = <class '__main__.Node'>\n"
     ]
    }
   ],
   "source": [
    "node_root = Node(x, y, \"root\", 0)\n",
    "que = [node_root]\n",
    "for item in que:\n",
    "    print(item.name)\n",
    "    item.split()\n",
    "    for itemc in item.split_children:\n",
    "        print(f\"--> {itemc.name}, is_leaf = {itemc.is_leaf}, type = {type(itemc)}\")\n",
    "        if itemc.is_leaf is False:\n",
    "            que.append(itemc)\n",
    "            print(f\"-----> {itemc.name} append...\")"
   ]
  },
  {
   "cell_type": "markdown",
   "id": "d95721ea-6ec5-4ec9-9d0b-b7b1255e7182",
   "metadata": {},
   "source": [
    "# 节点信息打印"
   ]
  },
  {
   "cell_type": "code",
   "execution_count": 5,
   "id": "da174e4a-674b-43c4-b972-a67e6f84395f",
   "metadata": {},
   "outputs": [
    {
     "name": "stdout",
     "output_type": "stream",
     "text": [
      "name=root-1, level=1, samples=8, gini=0.0, is_leaf = True\n",
      "--> split_c=None, split_t=None, split_gini_index=None\n",
      "name=root-0-0-1, level=3, samples=9, gini=0.0, is_leaf = True\n",
      "--> split_c=None, split_t=None, split_gini_index=None\n",
      "name=root-0-1-0, level=3, samples=1, gini=0.0, is_leaf = True\n",
      "--> split_c=None, split_t=None, split_gini_index=None\n",
      "name=root-0-1-1, level=3, samples=3, gini=0.0, is_leaf = True\n",
      "--> split_c=None, split_t=None, split_gini_index=None\n",
      "name=root-0-0-0-0, level=4, samples=1, gini=0.0, is_leaf = True\n",
      "--> split_c=None, split_t=None, split_gini_index=None\n",
      "name=root-0-0-0-1, level=4, samples=1, gini=0.0, is_leaf = True\n",
      "--> split_c=None, split_t=None, split_gini_index=None\n"
     ]
    }
   ],
   "source": [
    "que = [node_root]\n",
    "for node in que:    \n",
    "    if node.is_leaf is True:\n",
    "        node.getNodeShow()\n",
    "        pass  \n",
    "    if node.split_children is not None:\n",
    "        for item in node.split_children:\n",
    "            if item is not None:\n",
    "                que.append(item)"
   ]
  },
  {
   "cell_type": "markdown",
   "id": "491cbf7e-6562-4f8f-a7fd-81504c66f723",
   "metadata": {},
   "source": [
    "# 决策边界"
   ]
  },
  {
   "cell_type": "code",
   "execution_count": 6,
   "id": "0172fce8-44de-4e89-996a-65d8df5d8807",
   "metadata": {},
   "outputs": [
    {
     "data": {
      "image/png": "[encoded data removed]",
      "text/plain": [
       "<Figure size 288x288 with 1 Axes>"
      ]
     },
     "metadata": {
      "needs_background": "light"
     },
     "output_type": "display_data"
    }
   ],
   "source": [
    "plt.figure(figsize=(4, 4))\n",
    "plt.title(\"Samples\")\n",
    "plt.scatter(x[:, 0], x[:, 1], c=y, cmap=\"bwr\", alpha=0.5)\n",
    "plt.hlines(y=5.6681, xmin=0, xmax=10, linewidth=1, alpha=0.5)\n",
    "plt.vlines(x=5.2463, ymin=0, ymax=5.6681, linewidth=1, alpha=0.5)\n",
    "plt.vlines(x=1.6601, ymin=0, ymax=5.6681, linewidth=1, alpha=0.5)\n",
    "plt.hlines(y=3.8946, xmin=5.2463, xmax=10, linewidth=1, alpha=0.5)\n",
    "plt.vlines(x=0.75, ymin=0, ymax=5.6681, linewidth=1, alpha=0.5)\n",
    "plt.xlim(0, 10)\n",
    "plt.ylim(0, 10)\n",
    "plt.show()"
   ]
  },
  {
   "cell_type": "markdown",
   "id": "722b99d4-152a-4b47-9f9a-d40b3e185b22",
   "metadata": {},
   "source": [
    "# 决策树分类外部数据"
   ]
  },
  {
   "cell_type": "code",
   "execution_count": 7,
   "id": "f022ea18-ca3e-4e45-9da2-f9ec35e49de2",
   "metadata": {
    "tags": []
   },
   "outputs": [],
   "source": [
    "idx = np.arange(-0, 10, 0.01)\n",
    "idy = np.arange(-0, 10, 0.01)\n",
    "\n",
    "idxx, idyy = np.meshgrid(idx, idy)\n",
    "idt = np.c_[idxx.ravel(), idyy.ravel()]\n",
    "# print(idt)\n",
    "# print(idt.shape)"
   ]
  },
  {
   "cell_type": "code",
   "execution_count": 8,
   "id": "ebc259ed-23eb-40a4-9d4a-b60cb8395c4f",
   "metadata": {
    "tags": []
   },
   "outputs": [
    {
     "name": "stdout",
     "output_type": "stream",
     "text": [
      "root\n",
      "--> c = 1\n",
      "--> t = 5.668129037891472\n",
      "--> s.shape = (1000000,)\n",
      "--> sl.shape = (567000, 2)\n",
      "--> sr.shape = (433000, 2)\n",
      "--> flag = False\n",
      "-->--> i = 0\n",
      "-->--> node_child.name = root-0\n",
      "-->--> node_child.out_px = (567000, 2)\n",
      "-->--> i = 1\n",
      "-->--> node_child.name = root-1\n",
      "-->--> node_child.out_px = (433000, 2)\n",
      "root-0\n",
      "--> c = 0\n",
      "--> t = 5.246347217103983\n",
      "--> s.shape = (567000,)\n",
      "--> sl.shape = (297675, 2)\n",
      "--> sr.shape = (269325, 2)\n",
      "--> flag = False\n",
      "-->--> i = 0\n",
      "-->--> node_child.name = root-0-0\n",
      "-->--> node_child.out_px = (297675, 2)\n",
      "-->--> i = 1\n",
      "-->--> node_child.name = root-0-1\n",
      "-->--> node_child.out_px = (269325, 2)\n",
      "root-1\n",
      "----------------------> Flag = True\n",
      "----------------------> node.out_px = (433000, 2)\n",
      "----------------------> pre_label = 1\n",
      "root-0-0\n",
      "--> c = 0\n",
      "--> t = 1.6601722092269542\n",
      "--> s.shape = (297675,)\n",
      "--> sl.shape = (94689, 2)\n",
      "--> sr.shape = (202986, 2)\n",
      "--> flag = False\n",
      "-->--> i = 0\n",
      "-->--> node_child.name = root-0-0-0\n",
      "-->--> node_child.out_px = (94689, 2)\n",
      "-->--> i = 1\n",
      "-->--> node_child.name = root-0-0-1\n",
      "-->--> node_child.out_px = (202986, 2)\n",
      "root-0-1\n",
      "--> c = 1\n",
      "--> t = 3.8946507452169823\n",
      "--> s.shape = (269325,)\n",
      "--> sl.shape = (185250, 2)\n",
      "--> sr.shape = (84075, 2)\n",
      "--> flag = False\n",
      "-->--> i = 0\n",
      "-->--> node_child.name = root-0-1-0\n",
      "-->--> node_child.out_px = (185250, 2)\n",
      "-->--> i = 1\n",
      "-->--> node_child.name = root-0-1-1\n",
      "-->--> node_child.out_px = (84075, 2)\n",
      "root-0-0-0\n",
      "--> c = 0\n",
      "--> t = 0.75\n",
      "--> s.shape = (94689,)\n",
      "--> sl.shape = (43092, 2)\n",
      "--> sr.shape = (51597, 2)\n",
      "--> flag = False\n",
      "-->--> i = 0\n",
      "-->--> node_child.name = root-0-0-0-0\n",
      "-->--> node_child.out_px = (43092, 2)\n",
      "-->--> i = 1\n",
      "-->--> node_child.name = root-0-0-0-1\n",
      "-->--> node_child.out_px = (51597, 2)\n",
      "root-0-0-1\n",
      "----------------------> Flag = True\n",
      "----------------------> node.out_px = (202986, 2)\n",
      "----------------------> pre_label = 0\n",
      "root-0-1-0\n",
      "----------------------> Flag = True\n",
      "----------------------> node.out_px = (185250, 2)\n",
      "----------------------> pre_label = 0\n",
      "root-0-1-1\n",
      "----------------------> Flag = True\n",
      "----------------------> node.out_px = (84075, 2)\n",
      "----------------------> pre_label = 1\n",
      "root-0-0-0-0\n",
      "----------------------> Flag = True\n",
      "----------------------> node.out_px = (43092, 2)\n",
      "----------------------> pre_label = 0\n",
      "root-0-0-0-1\n",
      "----------------------> Flag = True\n",
      "----------------------> node.out_px = (51597, 2)\n",
      "----------------------> pre_label = 1\n"
     ]
    }
   ],
   "source": [
    "node = node_root\n",
    "node.out_px = copy.copy(idt)\n",
    "\n",
    "que = [node_root]\n",
    "for node in que:    \n",
    "    print(node.name)\n",
    "\n",
    "    flag = node.is_leaf\n",
    "    if flag is True:\n",
    "        node.pre_label = node.label[0]\n",
    "        print(f\"----------------------> Flag = {flag}\")\n",
    "        print(f\"----------------------> node.out_px = {node.out_px.shape}\")\n",
    "        print(f\"----------------------> pre_label = {node.pre_label}\")\n",
    "        continue \n",
    "    \n",
    "    c = node.split_c\n",
    "    print(f\"--> c = {c}\")\n",
    "    \n",
    "    t = node.split_t\n",
    "    print(f\"--> t = {t}\")\n",
    "    \n",
    "    f = node.out_px[:, c]\n",
    "    # print(f\"--> f = {f}\")\n",
    "    \n",
    "    s = np.where(f<=t, 0, 1)\n",
    "    print(f\"--> s.shape = {s.shape}\")\n",
    "    \n",
    "    sl = node.out_px[s==0]\n",
    "    sr = node.out_px[s==1]\n",
    "    schild = [sl, sr]\n",
    "    print(f\"--> sl.shape = {sl.shape}\")\n",
    "    print(f\"--> sr.shape = {sr.shape}\")\n",
    "    \n",
    "    if flag is False:\n",
    "        print(f\"--> flag = {flag}\")\n",
    "        for i, node_child in enumerate(node.split_children):\n",
    "            node_child.out_px = schild[i]\n",
    "            print(f\"-->--> i = {i}\")\n",
    "            print(f\"-->--> node_child.name = {node_child.name}\")   \n",
    "            print(f\"-->--> node_child.out_px = {node_child.out_px.shape}\")         \n",
    "    \n",
    "    if node.split_children is not None:\n",
    "        for item in node.split_children:\n",
    "            if item is not None:\n",
    "                que.append(item)"
   ]
  },
  {
   "cell_type": "markdown",
   "id": "60e167f7-892b-478c-8634-9764cca7f202",
   "metadata": {},
   "source": [
    "# 决策边界背景"
   ]
  },
  {
   "cell_type": "code",
   "execution_count": 9,
   "id": "c6614301-d2fa-4953-8774-abdeddfb64eb",
   "metadata": {
    "tags": []
   },
   "outputs": [],
   "source": [
    "# node_root.split_child_right.is_leaf\n",
    "# node_root.split_child_right.label\n",
    "# node_root.split_child_right.pre_label\n",
    "# node_root.split_child_right.out_px"
   ]
  },
  {
   "cell_type": "code",
   "execution_count": 10,
   "id": "b8b8d87c-8114-491c-bbb0-155d49620d9c",
   "metadata": {},
   "outputs": [],
   "source": [
    "que = [node_root]\n",
    "ls_output = list()\n",
    "ls_label = list()\n",
    "for node in que:    \n",
    "    if node.is_leaf is True:\n",
    "        ls_output.append(node.out_px)\n",
    "        ls_label.append(np.array([node.pre_label] * len(node.out_px)).reshape(-1, 1))\n",
    "        pass  \n",
    "    if node.split_children is not None:\n",
    "        for item in node.split_children:\n",
    "            if item is not None:\n",
    "                que.append(item)"
   ]
  },
  {
   "cell_type": "code",
   "execution_count": 11,
   "id": "0a99d8b6-78b7-445c-b457-57eabf6c1404",
   "metadata": {},
   "outputs": [],
   "source": [
    "tmp_arr_ls = list()\n",
    "for i in range(len(ls_output)):\n",
    "    tmp_arr1 = ls_output[i]\n",
    "    tmp_arr2 = ls_label[i]\n",
    "    tmp_arr = np.concatenate([tmp_arr1, tmp_arr2], axis=1)\n",
    "    tmp_arr_ls.append(tmp_arr)\n",
    "id_arr = np.concatenate(tmp_arr_ls)  \n",
    "# id_arr = np.sort(id_arr, axis=0)"
   ]
  },
  {
   "cell_type": "code",
   "execution_count": 12,
   "id": "15edc977-9417-4cc2-9dab-464241b89078",
   "metadata": {},
   "outputs": [],
   "source": [
    "df1 = pd.DataFrame(idt, columns=[\"a\", \"b\"])\n",
    "df2 = pd.DataFrame(id_arr, columns=[\"a\", \"b\", \"c\"])\n",
    "df3 = df1.merge(df2, how=\"left\", on=[\"a\", \"b\"])"
   ]
  },
  {
   "cell_type": "code",
   "execution_count": 13,
   "id": "882dd2ab-63f1-46c3-a286-4d61fd50097f",
   "metadata": {},
   "outputs": [],
   "source": [
    "xxx = df3.iloc[:, 0:1].values.reshape(1000, 1000)\n",
    "yyy = df3.iloc[:, 1:2].values.reshape(1000, 1000)\n",
    "zzz = df3.iloc[:, 2:3].values.reshape(1000, 1000).astype(int)"
   ]
  },
  {
   "cell_type": "code",
   "execution_count": 14,
   "id": "1b456ccf-4627-4a8e-9179-81abc3ac4e6e",
   "metadata": {},
   "outputs": [
    {
     "data": {
      "image/png": "[encoded data removed]",
      "text/plain": [
       "<Figure size 288x288 with 1 Axes>"
      ]
     },
     "metadata": {
      "needs_background": "light"
     },
     "output_type": "display_data"
    }
   ],
   "source": [
    "plt.figure(figsize=(4,4))\n",
    "plt.title(\"contourf of edge\")\n",
    "plt.contourf(xxx, yyy, zzz, alpha=0.15, cmap=\"bwr\")\n",
    "plt.scatter(x[:, 0].ravel(), x[:, 1].ravel(), c=y, alpha=0.5, cmap=\"bwr\")\n",
    "plt.show()"
   ]
  }
 ],
 "metadata": {
  "kernelspec": {
   "display_name": "Python 3",
   "language": "python",
   "name": "python3"
  },
  "language_info": {
   "codemirror_mode": {
    "name": "ipython",
    "version": 3
   },
   "file_extension": ".py",
   "mimetype": "text/x-python",
   "name": "python",
   "nbconvert_exporter": "python",
   "pygments_lexer": "ipython3",
   "version": "3.8.8"
  }
 },
 "nbformat": 4,
 "nbformat_minor": 5
}
