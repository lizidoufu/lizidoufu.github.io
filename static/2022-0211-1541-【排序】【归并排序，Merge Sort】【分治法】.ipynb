{
 "cells": [
  {
   "cell_type": "code",
   "execution_count": 7,
   "id": "39c91666-d9b8-404f-bac8-72755a08b32a",
   "metadata": {
    "tags": []
   },
   "outputs": [
    {
     "name": "stdout",
     "output_type": "stream",
     "text": [
      "[5 9 6 7 1 8 0 4 3 2]\n",
      "[0, 1, 2, 3, 4, 5, 6, 7, 8, 9]\n"
     ]
    }
   ],
   "source": [
    "import numpy as np\n",
    "from copy import copy\n",
    "\n",
    "# 创建数组arr，并将其顺序打乱\n",
    "arr = np.arange(0, 10, 1)\n",
    "np.random.shuffle(arr)\n",
    "print(arr)\n",
    "\n",
    "def merge(left, right):\n",
    "    result = []  \n",
    "    i, j = 0, 0\n",
    "    while i < len(left) and j < len(right): \n",
    "        # 同时遍历left和right两个列表，将比较小的数值插入到result，然后移动指针\n",
    "        if left[i] <= right[j]:\n",
    "            result.append(left[i])\n",
    "            i += 1\n",
    "        else:\n",
    "            result.append(right[j])\n",
    "            j += 1\n",
    "    result.extend(left[i:]) # left和right可能有一个没有遍历完，后续数据直接并入到result中\n",
    "    result.extend(right[j:])\n",
    "    return result\n",
    "\n",
    "def merge_sort(arr):\n",
    "    if len(arr) <= 1: # 如果列表长度为1，直接返回列表\n",
    "        return arr\n",
    "    mid = len(arr) // 2 # 如果长度大于等于2，拆成左右两个列表\n",
    "    left = merge_sort(arr[:mid]) # 递归子集合，继续归并排序\n",
    "    right = merge_sort(arr[mid:])\n",
    "    return merge(left, right) # 得到的两个结果，通过merge融合到一起\n",
    "\n",
    "print(merge_sort(arr))"
   ]
  },
  {
   "cell_type": "code",
   "execution_count": null,
   "id": "cd27f57f-17b0-4499-a22d-c73db489035f",
   "metadata": {},
   "outputs": [],
   "source": []
  }
 ],
 "metadata": {
  "kernelspec": {
   "display_name": "Python 3",
   "language": "python",
   "name": "python3"
  },
  "language_info": {
   "codemirror_mode": {
    "name": "ipython",
    "version": 3
   },
   "file_extension": ".py",
   "mimetype": "text/x-python",
   "name": "python",
   "nbconvert_exporter": "python",
   "pygments_lexer": "ipython3",
   "version": "3.8.8"
  }
 },
 "nbformat": 4,
 "nbformat_minor": 5
}
