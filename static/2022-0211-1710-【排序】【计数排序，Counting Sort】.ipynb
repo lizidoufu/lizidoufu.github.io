{
 "cells": [
  {
   "cell_type": "code",
   "execution_count": 10,
   "id": "c2d19dc3-b59c-4af6-a21d-7cfe3b7049f0",
   "metadata": {},
   "outputs": [
    {
     "name": "stdout",
     "output_type": "stream",
     "text": [
      "[1 0 5 5 2 4 5 0 6 1 4 4 1 8 7 0 8 1 7 6]\n",
      "[0, 0, 0, 1, 1, 1, 1, 2, 4, 4, 4, 5, 5, 5, 6, 6, 7, 7, 8, 8]\n"
     ]
    }
   ],
   "source": [
    "# ————————————————\n",
    "# 版权声明：本文为CSDN博主「Python碎片」的原创文章，遵循CC 4.0 BY-SA版权协议，转载请附上原文出处链接及本声明。\n",
    "# 原文链接：https://blog.csdn.net/weixin_43790276/article/details/107398262\n",
    "\n",
    "\"\"\"\n",
    "计数排序，只适用于（离散、有限范围、整数）这种形式的集合排序\n",
    "直接读取每种数值的大小和个数，插入到另一个结果列表中\n",
    "\"\"\"\n",
    "\n",
    "import numpy as np\n",
    "from copy import copy\n",
    "\n",
    "# 创建数组arr，并将其顺序打乱\n",
    "arr = np.random.uniform(0, 10, size=20).astype(int)\n",
    "np.random.shuffle(arr)\n",
    "print(arr)\n",
    "\n",
    "def counting_sort(arr):\n",
    "    if len(arr) < 2: \n",
    "        return arr\n",
    "    max_num = max(arr) # 获取整数最大范围\n",
    "    count = [0] * (max_num + 1) # 设置一个最大范围长度的列表，表示 0-max 的计数\n",
    "    for num in arr: # 遍历arr，对元素进行计数，并填写到具体位置\n",
    "        count[num] += 1\n",
    "    res = list() # 结果列表，按照计数值，逐个多次地添加元素\n",
    "    for i in range(len(count)):\n",
    "        for j in range(count[i]):\n",
    "            res.append(i)\n",
    "    return res\n",
    "\n",
    "res = counting_sort(arr)\n",
    "print(res)"
   ]
  }
 ],
 "metadata": {
  "kernelspec": {
   "display_name": "Python 3",
   "language": "python",
   "name": "python3"
  },
  "language_info": {
   "codemirror_mode": {
    "name": "ipython",
    "version": 3
   },
   "file_extension": ".py",
   "mimetype": "text/x-python",
   "name": "python",
   "nbconvert_exporter": "python",
   "pygments_lexer": "ipython3",
   "version": "3.8.8"
  }
 },
 "nbformat": 4,
 "nbformat_minor": 5
}
