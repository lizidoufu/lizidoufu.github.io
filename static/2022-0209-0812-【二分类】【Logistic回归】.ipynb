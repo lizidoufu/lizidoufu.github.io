{
 "cells": [
  {
   "cell_type": "markdown",
   "id": "464cc3af-e8dc-4e44-a7ef-62aad8d816b1",
   "metadata": {},
   "source": [
    "# 引入库"
   ]
  },
  {
   "cell_type": "code",
   "execution_count": 1,
   "id": "fe70e98b-b164-481e-9b90-67cac6809587",
   "metadata": {},
   "outputs": [],
   "source": [
    "# %matplotlib notebook\n",
    "# %matplotlib widget\n",
    "# %matplotlib inline\n",
    "# %matplotlib widget\n",
    "\n",
    "import numpy as np\n",
    "import pandas as pd\n",
    "import matplotlib.pyplot as plt\n",
    "from IPython import display\n",
    "import warnings\n",
    "import copy\n",
    "warnings.simplefilter(\"ignore\")\n",
    "plt.rcParams['font.sans-serif'] = ['SimHei']   #设置简黑字体\n",
    "plt.rcParams['axes.unicode_minus'] = False # 解决‘-’bug"
   ]
  },
  {
   "cell_type": "markdown",
   "id": "ad899c76-ba1b-45ee-a06d-65105509b711",
   "metadata": {},
   "source": [
    "# 样本数据"
   ]
  },
  {
   "cell_type": "code",
   "execution_count": 2,
   "id": "b351d1ed-48db-4546-9ba2-3636387b3cf6",
   "metadata": {},
   "outputs": [
    {
     "data": {
      "image/png": "[encoded data removed]",
      "text/plain": [
       "<Figure size 360x216 with 1 Axes>"
      ]
     },
     "metadata": {
      "needs_background": "light"
     },
     "output_type": "display_data"
    }
   ],
   "source": [
    "np.random.seed(8115333)\n",
    "\n",
    "x1 = np.random.rand(10, 2) * 3 + 2 \n",
    "y1 = [0] * len(x1)\n",
    "\n",
    "x2 = np.random.rand(10, 2) * 3 + 4\n",
    "y2 = [1] * len(x2)\n",
    "\n",
    "x = np.concatenate([x1, x2], axis=0)\n",
    "y = np.concatenate([y1, y2])\n",
    "\n",
    "plt.figure(figsize=(5, 3))\n",
    "plt.title(\"Samples\")\n",
    "plt.scatter(x[:, 0], x[:, 1], c=y, cmap=\"bwr\", alpha=0.5)\n",
    "plt.xlim(0, 8)\n",
    "plt.ylim(0, 8)\n",
    "plt.show()"
   ]
  },
  {
   "cell_type": "markdown",
   "id": "63156830-a376-4488-83b3-68644d7beb02",
   "metadata": {},
   "source": [
    "# 逻辑回归"
   ]
  },
  {
   "cell_type": "code",
   "execution_count": 3,
   "id": "7d57a2b7-0a58-49a4-bb1d-70a47541ff07",
   "metadata": {},
   "outputs": [],
   "source": [
    "def sigmoid(z):\n",
    "    return 1/(1+np.exp(-z))\n",
    "\n",
    "def sigmoid_inv(f):\n",
    "    return f * (1-f)\n",
    "\n",
    "# 固定初始化\n",
    "np.random.seed(313131)\n",
    "weight = np.random.randn(2, 1)\n",
    "bias = np.random.randn()\n",
    "\n",
    "# 超参数设置\n",
    "lr = 0.9 # 学习率\n",
    "loops = 150 # 迭代次数\n",
    "datas = list() # 保存中间结果\n",
    "\n",
    "# 训练和迭代\n",
    "for loop in range(loops):\n",
    "    \n",
    "    # 输入样本，激活\n",
    "    z = x @ weight + bias\n",
    "    f = sigmoid(z).ravel()\n",
    "    \n",
    "    # 反向传播梯度\n",
    "    mse = np.var(y - f)\n",
    "    delta_w0 = np.mean((y-f)*(-1)*f*(1-f)*x[:, 0].ravel())\n",
    "    delta_w1 = np.mean((y-f)*(-1)*f*(1-f)*x[:, 1].ravel())\n",
    "    delta_b = np.mean((y-f)*(-1))\n",
    "    \n",
    "    # 更新权重\n",
    "    weight[0][0] -= lr * delta_w0\n",
    "    weight[1][0] -= lr * delta_w1\n",
    "    bias -= lr * delta_b\n",
    "    \n",
    "    # 获取输出\n",
    "    z = x @ weight + bias\n",
    "    f = sigmoid(z).ravel()   \n",
    "    label = np.where(np.array(f)>=0.5, 1, 0)\n",
    "    accuracy = np.sum(y == label) / len(y)\n",
    "    \n",
    "    # 保存中间结果\n",
    "    datas.append([loop, mse, weight[0][0], weight[1][0], bias, accuracy])\n",
    "\n",
    "# 结果处理成 dataFrame 保存\n",
    "dfr = pd.DataFrame(datas, columns=[\"loop\", \"mse\", \"weight0\", \"weight1\", \"bias\", \"accuracy\"])"
   ]
  },
  {
   "cell_type": "markdown",
   "id": "4b6dc278-6361-4f17-b070-2a71743765c9",
   "metadata": {},
   "source": [
    "# 迭代的中间结果预览"
   ]
  },
  {
   "cell_type": "code",
   "execution_count": 4,
   "id": "41a80c9b-b0b7-4d8a-8649-21ead74dea04",
   "metadata": {},
   "outputs": [
    {
     "data": {
      "text/html": [
       "<div>\n",
       "<style scoped>\n",
       "    .dataframe tbody tr th:only-of-type {\n",
       "        vertical-align: middle;\n",
       "    }\n",
       "\n",
       "    .dataframe tbody tr th {\n",
       "        vertical-align: top;\n",
       "    }\n",
       "\n",
       "    .dataframe thead th {\n",
       "        text-align: right;\n",
       "    }\n",
       "</style>\n",
       "<table border=\"1\" class=\"dataframe\">\n",
       "  <thead>\n",
       "    <tr style=\"text-align: right;\">\n",
       "      <th></th>\n",
       "      <th>loop</th>\n",
       "      <th>mse</th>\n",
       "      <th>weight0</th>\n",
       "      <th>weight1</th>\n",
       "      <th>bias</th>\n",
       "      <th>accuracy</th>\n",
       "    </tr>\n",
       "  </thead>\n",
       "  <tbody>\n",
       "    <tr>\n",
       "      <th>0</th>\n",
       "      <td>0</td>\n",
       "      <td>0.234532</td>\n",
       "      <td>1.334244</td>\n",
       "      <td>-0.314363</td>\n",
       "      <td>-0.048809</td>\n",
       "      <td>0.50</td>\n",
       "    </tr>\n",
       "    <tr>\n",
       "      <th>1</th>\n",
       "      <td>1</td>\n",
       "      <td>0.221969</td>\n",
       "      <td>1.269028</td>\n",
       "      <td>-0.402554</td>\n",
       "      <td>-0.464257</td>\n",
       "      <td>0.50</td>\n",
       "    </tr>\n",
       "    <tr>\n",
       "      <th>2</th>\n",
       "      <td>2</td>\n",
       "      <td>0.198214</td>\n",
       "      <td>1.157126</td>\n",
       "      <td>-0.547093</td>\n",
       "      <td>-0.836190</td>\n",
       "      <td>0.65</td>\n",
       "    </tr>\n",
       "    <tr>\n",
       "      <th>3</th>\n",
       "      <td>3</td>\n",
       "      <td>0.171966</td>\n",
       "      <td>1.024528</td>\n",
       "      <td>-0.695941</td>\n",
       "      <td>-1.081852</td>\n",
       "      <td>0.70</td>\n",
       "    </tr>\n",
       "    <tr>\n",
       "      <th>4</th>\n",
       "      <td>4</td>\n",
       "      <td>0.189573</td>\n",
       "      <td>1.068380</td>\n",
       "      <td>-0.635581</td>\n",
       "      <td>-1.096427</td>\n",
       "      <td>0.70</td>\n",
       "    </tr>\n",
       "    <tr>\n",
       "      <th>...</th>\n",
       "      <td>...</td>\n",
       "      <td>...</td>\n",
       "      <td>...</td>\n",
       "      <td>...</td>\n",
       "      <td>...</td>\n",
       "      <td>...</td>\n",
       "    </tr>\n",
       "    <tr>\n",
       "      <th>145</th>\n",
       "      <td>145</td>\n",
       "      <td>0.080568</td>\n",
       "      <td>1.023261</td>\n",
       "      <td>0.298499</td>\n",
       "      <td>-5.392820</td>\n",
       "      <td>0.95</td>\n",
       "    </tr>\n",
       "    <tr>\n",
       "      <th>146</th>\n",
       "      <td>146</td>\n",
       "      <td>0.080359</td>\n",
       "      <td>1.024212</td>\n",
       "      <td>0.301424</td>\n",
       "      <td>-5.409979</td>\n",
       "      <td>0.95</td>\n",
       "    </tr>\n",
       "    <tr>\n",
       "      <th>147</th>\n",
       "      <td>147</td>\n",
       "      <td>0.080151</td>\n",
       "      <td>1.025168</td>\n",
       "      <td>0.304324</td>\n",
       "      <td>-5.427051</td>\n",
       "      <td>0.95</td>\n",
       "    </tr>\n",
       "    <tr>\n",
       "      <th>148</th>\n",
       "      <td>148</td>\n",
       "      <td>0.079946</td>\n",
       "      <td>1.026130</td>\n",
       "      <td>0.307200</td>\n",
       "      <td>-5.444036</td>\n",
       "      <td>0.95</td>\n",
       "    </tr>\n",
       "    <tr>\n",
       "      <th>149</th>\n",
       "      <td>149</td>\n",
       "      <td>0.079743</td>\n",
       "      <td>1.027096</td>\n",
       "      <td>0.310053</td>\n",
       "      <td>-5.460937</td>\n",
       "      <td>0.95</td>\n",
       "    </tr>\n",
       "  </tbody>\n",
       "</table>\n",
       "<p>150 rows × 6 columns</p>\n",
       "</div>"
      ],
      "text/plain": [
       "     loop       mse   weight0   weight1      bias  accuracy\n",
       "0       0  0.234532  1.334244 -0.314363 -0.048809      0.50\n",
       "1       1  0.221969  1.269028 -0.402554 -0.464257      0.50\n",
       "2       2  0.198214  1.157126 -0.547093 -0.836190      0.65\n",
       "3       3  0.171966  1.024528 -0.695941 -1.081852      0.70\n",
       "4       4  0.189573  1.068380 -0.635581 -1.096427      0.70\n",
       "..    ...       ...       ...       ...       ...       ...\n",
       "145   145  0.080568  1.023261  0.298499 -5.392820      0.95\n",
       "146   146  0.080359  1.024212  0.301424 -5.409979      0.95\n",
       "147   147  0.080151  1.025168  0.304324 -5.427051      0.95\n",
       "148   148  0.079946  1.026130  0.307200 -5.444036      0.95\n",
       "149   149  0.079743  1.027096  0.310053 -5.460937      0.95\n",
       "\n",
       "[150 rows x 6 columns]"
      ]
     },
     "execution_count": 4,
     "metadata": {},
     "output_type": "execute_result"
    }
   ],
   "source": [
    "dfr"
   ]
  },
  {
   "cell_type": "markdown",
   "id": "634a95cd-912c-41a0-9367-0347691cd08d",
   "metadata": {},
   "source": [
    "# Weight 和 bias 的迭代过程"
   ]
  },
  {
   "cell_type": "code",
   "execution_count": 5,
   "id": "ade19c52-d48b-46f6-b4b8-fea9d8971f88",
   "metadata": {},
   "outputs": [
    {
     "data": {
      "image/png": "[encoded data removed]",
      "text/plain": [
       "<Figure size 360x216 with 1 Axes>"
      ]
     },
     "metadata": {
      "needs_background": "light"
     },
     "output_type": "display_data"
    }
   ],
   "source": [
    "plt.figure(figsize=(5, 3))\n",
    "plt.title(\"Weight and bias\")\n",
    "plt.plot(dfr[\"loop\"], dfr[\"weight0\"], label=\"weight0\")\n",
    "plt.plot(dfr[\"loop\"], dfr[\"weight1\"], label=\"weight1\")\n",
    "plt.plot(dfr[\"loop\"], dfr[\"bias\"], label=\"bias\")\n",
    "plt.legend()\n",
    "plt.show()"
   ]
  },
  {
   "cell_type": "markdown",
   "id": "c59117d5-8e14-4fe4-a206-66ea2a19881c",
   "metadata": {},
   "source": [
    "# MSE 迭代图\n",
    "\n",
    "可以看到，前20次迭代中，均方误差震荡中快速下降"
   ]
  },
  {
   "cell_type": "code",
   "execution_count": 6,
   "id": "aea26bb8-88c8-4f80-ac72-399e5d0da566",
   "metadata": {},
   "outputs": [
    {
     "data": {
      "image/png": "[encoded data removed]",
      "text/plain": [
       "<Figure size 360x216 with 1 Axes>"
      ]
     },
     "metadata": {
      "needs_background": "light"
     },
     "output_type": "display_data"
    }
   ],
   "source": [
    "plt.figure(figsize=(5, 3))\n",
    "plt.title(\"MSE Iters Plot\")\n",
    "plt.plot(dfr[\"loop\"], dfr[\"mse\"])\n",
    "plt.show()"
   ]
  },
  {
   "cell_type": "markdown",
   "id": "d23ed292-b429-452f-8530-be8e00221d62",
   "metadata": {},
   "source": [
    "# Accuracy 迭代过程\n",
    "\n",
    "预测正确率井条有序上升"
   ]
  },
  {
   "cell_type": "code",
   "execution_count": 7,
   "id": "201f13f8-b7e4-4295-ae26-57ce6a8ef35e",
   "metadata": {},
   "outputs": [
    {
     "data": {
      "image/png": "[encoded data removed]",
      "text/plain": [
       "<Figure size 360x216 with 1 Axes>"
      ]
     },
     "metadata": {
      "needs_background": "light"
     },
     "output_type": "display_data"
    }
   ],
   "source": [
    "plt.figure(figsize=(5, 3))\n",
    "plt.title(\"Accuracy Iters Plot\")\n",
    "plt.plot(dfr[\"loop\"], dfr[\"accuracy\"])\n",
    "plt.show()"
   ]
  },
  {
   "cell_type": "markdown",
   "id": "960c70b7-cb26-4225-8534-12170d73b0b3",
   "metadata": {},
   "source": [
    "# 决策边界，轮廓图\n",
    "\n",
    "只有1个异常点没办法区分出来，在神经网络中增加隐含层可以解决"
   ]
  },
  {
   "cell_type": "code",
   "execution_count": 8,
   "id": "b3874b79-3b60-44e2-93c5-6f76da1506b2",
   "metadata": {},
   "outputs": [
    {
     "data": {
      "image/png": "[encoded data removed]",
      "text/plain": [
       "<Figure size 360x216 with 1 Axes>"
      ]
     },
     "metadata": {
      "needs_background": "light"
     },
     "output_type": "display_data"
    }
   ],
   "source": [
    "idx = np.arange(-0, 8, 0.01)\n",
    "idy = np.arange(-0, 8, 0.01)\n",
    "\n",
    "idxx, idyy = np.meshgrid(idx, idy)\n",
    "idt = np.c_[idxx.ravel(), idyy.ravel()]\n",
    "idz = sigmoid(idt @ weight + bias)\n",
    "# idz = kmeans.predict(idt)\n",
    "\n",
    "idz2 = idz.copy()\n",
    "idz2[idz >= 0.5] = 1\n",
    "idz2[idz < 0.5] = 0\n",
    "# print(idz2)\n",
    "\n",
    "idzz = idz2.reshape(idxx.shape)\n",
    "# print(idzz)\n",
    "\n",
    "plt.figure(figsize=(5, 3))\n",
    "plt.title(\"contourf of edge\")\n",
    "plt.contourf(idxx, idyy, idzz, alpha=0.15, cmap=\"bwr\")\n",
    "plt.scatter(x[:, 0].ravel(), x[:, 1].ravel(), c=y, alpha=0.5, cmap=\"bwr\")\n",
    "plt.show()"
   ]
  },
  {
   "cell_type": "markdown",
   "id": "b4a34bcd-31fc-47e8-b461-909c7cd8ad8c",
   "metadata": {},
   "source": [
    "# 决策边界迭代过程动画"
   ]
  },
  {
   "cell_type": "code",
   "execution_count": 9,
   "id": "5519db8f-81e6-473b-8e58-3cbbeccea8ef",
   "metadata": {
    "tags": []
   },
   "outputs": [],
   "source": [
    "idx = np.arange(-0, 8, 0.01)\n",
    "idy = np.arange(-0, 8, 0.01)\n",
    "idxx, idyy = np.meshgrid(idx, idy)\n",
    "idt = np.c_[idxx.ravel(), idyy.ravel()]\n",
    "    \n",
    "countfs = list()\n",
    "loops = len(dfr)\n",
    "for i in range(loops):\n",
    "    weight_ = dfr.loc[i, [\"weight0\", \"weight1\"]].values.reshape(-1, 1)\n",
    "    bias_ = dfr.loc[i, [\"bias\"]].values\n",
    "    idz = sigmoid(idt @ weight_ + bias_)\n",
    "    idz2 = idz.copy()\n",
    "    idz2[idz >= 0.5] = 1\n",
    "    idz2[idz < 0.5] = 0\n",
    "    idzz = idz2.reshape(idxx.shape)\n",
    "    countfs.append(idzz)\n",
    "    # print(f\"i = {i} finished.\")\n",
    "# print(countfs)"
   ]
  },
  {
   "cell_type": "code",
   "execution_count": 10,
   "id": "7a7b4cb6-54e2-46f0-8e27-5e4183beb38d",
   "metadata": {
    "tags": []
   },
   "outputs": [
    {
     "data": {
      "image/png": "[encoded data removed]",
      "text/plain": [
       "<Figure size 360x216 with 1 Axes>"
      ]
     },
     "metadata": {
      "needs_background": "light"
     },
     "output_type": "display_data"
    }
   ],
   "source": [
    "import matplotlib.pyplot as plt\n",
    "import numpy as np\n",
    "from matplotlib import animation\n",
    "\n",
    "\n",
    "fig, ax = plt.subplots()\n",
    "fig.set_figwidth(5)\n",
    "fig.set_figheight(3)\n",
    "\n",
    "\n",
    "def update(i):\n",
    "    ax.clear()\n",
    "    ax.contourf(idxx, idyy, countfs[i], alpha=0.15, cmap=\"bwr\")\n",
    "    ax.scatter(x[:, 0].ravel(), x[:, 1].ravel(), c=y, alpha=0.5, cmap=\"bwr\")\n",
    "    ax.set_title(f\"i = {i}, mse = {dfr.loc[i, 'mse']:>2.4f}, accuracy = {dfr.loc[i, 'accuracy']:>2.4f}\")\n",
    "    return \n",
    "\n",
    "\n",
    "ani = animation.FuncAnimation( \n",
    "    fig=fig, # 图形对象\n",
    "    func=update, # 更新函数\n",
    "    frames=150,  # 传递给 func 的可迭代对象，nums = range(nums)\n",
    "    interval=100, # 每帧之间的毫秒间隔\n",
    "    blit=False,\n",
    ")\n",
    "\n",
    "\n",
    "plt.show()"
   ]
  }
 ],
 "metadata": {
  "kernelspec": {
   "display_name": "Python 3",
   "language": "python",
   "name": "python3"
  },
  "language_info": {
   "codemirror_mode": {
    "name": "ipython",
    "version": 3
   },
   "file_extension": ".py",
   "mimetype": "text/x-python",
   "name": "python",
   "nbconvert_exporter": "python",
   "pygments_lexer": "ipython3",
   "version": "3.8.8"
  }
 },
 "nbformat": 4,
 "nbformat_minor": 5
}
