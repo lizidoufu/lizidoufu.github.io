{
 "cells": [
  {
   "cell_type": "code",
   "execution_count": 1,
   "id": "5b4730c5-a50c-4f7a-a300-1e83154abc1e",
   "metadata": {},
   "outputs": [],
   "source": [
    "import numpy as np\n",
    "import pandas as pd\n",
    "import matplotlib.pyplot as plt"
   ]
  },
  {
   "cell_type": "code",
   "execution_count": 2,
   "id": "7a5e108f-98d8-4be9-aee3-22e56730917f",
   "metadata": {},
   "outputs": [
    {
     "data": {
      "image/png": "[encoded data removed]",
      "text/plain": [
       "<Figure size 432x288 with 1 Axes>"
      ]
     },
     "metadata": {
      "needs_background": "light"
     },
     "output_type": "display_data"
    }
   ],
   "source": [
    "np.random.seed(4843750)\n",
    "\n",
    "nums = 5\n",
    "x1 = np.random.rand(nums, 2) * 3 + 2\n",
    "x2 = np.random.rand(nums, 2) * 3 + 5\n",
    "x = np.concatenate([x1, x2])\n",
    "y = np.array([-1]*nums + [1]*nums)\n",
    "\n",
    "plt.scatter(x[:, 0], x[:, 1], c=y, cmap='bwr', alpha=0.5)\n",
    "plt.axis('scaled')\n",
    "plt.xlim(0, 10)\n",
    "plt.ylim(0, 10)\n",
    "plt.show()"
   ]
  },
  {
   "cell_type": "code",
   "execution_count": 3,
   "id": "1e12e515-c99d-46c6-9ac2-d6de1a854039",
   "metadata": {},
   "outputs": [
    {
     "name": "stdout",
     "output_type": "stream",
     "text": [
      "[0.74473264 0.46546453] -6.045553554565178\n",
      "[ 0.386  0.     0.     0.     0.     0.386 -0.     0.     0.    -0.   ]\n"
     ]
    }
   ],
   "source": [
    "class SVM(object):\n",
    "    def __init__(self, x, y, c, tol, iters):\n",
    "        self.x = x\n",
    "        self.y = y\n",
    "        self.c = c\n",
    "        self.tol = tol\n",
    "        self.iters = iters\n",
    "        self.alphas = np.zeros(x.shape[0])\n",
    "        self.weights = np.zeros(x.shape[1])\n",
    "        self.bias = 0 \n",
    "        return\n",
    "    \n",
    "    def kernel(self, xi, xj):\n",
    "        res = np.dot(xi, xj) \n",
    "        return res\n",
    "    \n",
    "    def compute_gi(self, i):\n",
    "        xi, gi = self.x[i], 0\n",
    "        for j in range(len(self.alphas)):\n",
    "            yj, aj, xj = self.y[j], self.alphas[j], self.x[j]\n",
    "            gi += yj*aj*self.kernel(xi, xj)\n",
    "        gi += self.bias\n",
    "        return gi\n",
    "    \n",
    "    def compute_ei(self, i):\n",
    "        ei = self.compute_gi(i) - self.y[i] \n",
    "        return ei\n",
    "    \n",
    "    def compute_grand(self, i, j):\n",
    "        xi, xj = self.x[i], self.x[j]\n",
    "        kij = self.kernel(xi, xj)\n",
    "        return kij\n",
    "    \n",
    "    def is_violate_kkt(self, i):\n",
    "        ai = self.alphas[i]\n",
    "        if True:\n",
    "            return True\n",
    "        return False\n",
    "    \n",
    "    def select_j_random(self, i):\n",
    "        j = i\n",
    "        while j==i:\n",
    "            j = int(np.random.uniform(0, len(self.alphas)))\n",
    "        return j\n",
    "    \n",
    "    def compute_L_H(self, ai, aj, yi, yj):\n",
    "        if yi!=yj:\n",
    "            L = max(0, aj - ai)\n",
    "            H = min(self.c, self.c + aj - ai)\n",
    "        else:\n",
    "            L = max(0, aj + ai - self.c)\n",
    "            H = min(self.c, aj + ai)\n",
    "        return L, H\n",
    "    \n",
    "    def clip_alphas(self, aj_new, L, H):\n",
    "        if aj_new <= L:\n",
    "            aj_new = L\n",
    "        elif aj_new >= H:\n",
    "            aj_new = H\n",
    "        return aj_new\n",
    "    \n",
    "    def clip_bias(self, ai_new, aj_new, bi, bj):\n",
    "        b = None\n",
    "        if 0 < ai_new < self.c:\n",
    "                b = bi\n",
    "        elif 0 < aj_new < self.c:\n",
    "            b = bj\n",
    "        else:\n",
    "            b = (bi + bj)/2\n",
    "        return b\n",
    "        \n",
    "    \n",
    "    def simple_smo(self):\n",
    "        for i in range(len(self.alphas)):\n",
    "            j = self.select_j_random(i) # 随机选择一个aj作为a2\n",
    "            ai, aj = self.alphas[i], self.alphas[j]\n",
    "            xi, xj = self.x[i], self.x[j]\n",
    "            yi, yj = self.y[i], self.y[j]\n",
    "            ei, ej = self.compute_ei(i), self.compute_ei(j)\n",
    "            \n",
    "            k11 = self.compute_grand(i, i)\n",
    "            k12 = self.compute_grand(i, j)\n",
    "            k21 = self.compute_grand(j, i)\n",
    "            k22 = self.compute_grand(j, j)\n",
    "            eta = k11 - 2*k12 + k22   \n",
    "            # print((i, j), (ei, ej), (k11, k12, k22), eta)\n",
    "            if eta <= 0:\n",
    "                continue\n",
    "                \n",
    "            L, H = self.compute_L_H(ai, aj, yi, yj)\n",
    "            aj_new = aj + yj*(ei - ej)/eta\n",
    "            \n",
    "            aj_new = self.clip_alphas(aj_new, L, H)\n",
    "            ai_new = ai + yi*yj*(aj - aj_new)\n",
    "            \n",
    "            if np.abs(aj_new - aj)< 0.00001:\n",
    "                continue \n",
    "            # print((i, j), (ai, ai_new), (aj, aj_new))\n",
    "            \n",
    "            bi = -ei - yi*k11*(ai_new - ai) - yj*k12*(aj_new - aj) + self.bias\n",
    "            bj = -ej - yi*k12*(ai_new - ai) - yj*k22*(aj_new - aj) + self.bias\n",
    "            b_new = self.clip_bias(ai_new, aj_new, bi, bj)\n",
    "            # print((i, j), (ai, ai_new), (aj, aj_new), (b_new))\n",
    "            \n",
    "            self.alphas[i] = ai_new\n",
    "            self.alphas[j] = aj_new\n",
    "            self.bias = b_new\n",
    "        return\n",
    "    \n",
    "    def run(self):\n",
    "        for loop in range(self.iters):\n",
    "            self.simple_smo()\n",
    "        for i in range(len(self.alphas)):\n",
    "            self.weights += self.alphas[i] * self.y[i] * self.x[i]\n",
    "        self.alphas = np.round(self.alphas, 3)\n",
    "        return\n",
    "    pass \n",
    "\n",
    "svm = SVM(x, y, c=2.0, tol=0.01, iters=100)\n",
    "svm.run()\n",
    "print(svm.weights, svm.bias)\n",
    "print(svm.alphas)"
   ]
  },
  {
   "cell_type": "code",
   "execution_count": 4,
   "id": "c2e47794-49a1-4eed-808d-bca50d3c7f94",
   "metadata": {
    "tags": []
   },
   "outputs": [
    {
     "data": {
      "image/png": "[encoded data removed]",
      "text/plain": [
       "<Figure size 432x288 with 1 Axes>"
      ]
     },
     "metadata": {
      "needs_background": "light"
     },
     "output_type": "display_data"
    }
   ],
   "source": [
    "xt = np.arange(0, 10, 0.1)\n",
    "yt = (-svm.bias - xt*svm.weights[0])/svm.weights[1]\n",
    "yt1 = (-svm.bias - 1 - xt*svm.weights[0])/svm.weights[1]\n",
    "yt2 = (-svm.bias + 1 - xt*svm.weights[0])/svm.weights[1]\n",
    "\n",
    "plt.scatter(x[:, 0], x[:, 1], c=y, cmap='bwr', alpha=0.5)\n",
    "for i in range(len(svm.alphas)):\n",
    "    if svm.alphas[i]>0:\n",
    "        plt.scatter(x[i:i+1, 0], x[i:i+1, 1], c='None', edgecolors='green', s=100)\n",
    "plt.plot(xt, yt , c='black', linestyle='-' , linewidth=1, alpha=0.75)\n",
    "plt.plot(xt, yt1, c='black', linestyle='--', linewidth=1, alpha=0.50)\n",
    "plt.plot(xt, yt2, c='black', linestyle='--', linewidth=1, alpha=0.50)\n",
    "plt.axis('scaled')\n",
    "plt.xlim(0, 10)\n",
    "plt.ylim(0, 10)\n",
    "plt.show()"
   ]
  },
  {
   "cell_type": "code",
   "execution_count": null,
   "id": "7ddbb5ef-6de1-488b-bfb6-808c53bdba2c",
   "metadata": {},
   "outputs": [],
   "source": []
  }
 ],
 "metadata": {
  "kernelspec": {
   "display_name": "Python 3",
   "language": "python",
   "name": "python3"
  },
  "language_info": {
   "codemirror_mode": {
    "name": "ipython",
    "version": 3
   },
   "file_extension": ".py",
   "mimetype": "text/x-python",
   "name": "python",
   "nbconvert_exporter": "python",
   "pygments_lexer": "ipython3",
   "version": "3.8.8"
  }
 },
 "nbformat": 4,
 "nbformat_minor": 5
}
